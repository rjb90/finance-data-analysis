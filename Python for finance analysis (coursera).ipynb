{
 "cells": [
  {
   "cell_type": "markdown",
   "metadata": {},
   "source": [
    "This is what I have learned in the course \"Python for finance analysis\" by Xuhu Wan in Coursera."
   ]
  },
  {
   "cell_type": "markdown",
   "metadata": {},
   "source": [
    "# Python for finance analysis"
   ]
  },
  {
   "cell_type": "markdown",
   "metadata": {},
   "source": [
    "First, we will import the libraries that we are going to use"
   ]
  },
  {
   "cell_type": "code",
   "execution_count": 1,
   "metadata": {},
   "outputs": [],
   "source": [
    "import numpy as np\n",
    "import pandas as pd\n",
    "import matplotlib.pyplot as plt\n",
    "import statsmodels.formula.api as smf\n",
    "%matplotlib inline\n",
    "from scipy.stats import norm\n",
    "from pandas.tools.plotting import scatter_matrix"
   ]
  },
  {
   "cell_type": "markdown",
   "metadata": {},
   "source": [
    "For the data, we are going to import the documents from Yahoo Finance, in Historic Data we can download all the data from one stock. In this case, we are going to use Facebook and Microsoft stock. "
   ]
  },
  {
   "cell_type": "code",
   "execution_count": 2,
   "metadata": {},
   "outputs": [
    {
     "name": "stderr",
     "output_type": "stream",
     "text": [
      "C:\\Users\\ramir\\Anaconda3\\lib\\site-packages\\ipykernel_launcher.py:1: FutureWarning: from_csv is deprecated. Please use read_csv(...) instead. Note that some of the default arguments are different, so please refer to the documentation for from_csv when changing your function calls\n",
      "  \"\"\"Entry point for launching an IPython kernel.\n"
     ]
    }
   ],
   "source": [
    "fb = pd.DataFrame.from_csv(\"C:/Users/ramir/Documents/Finanzas/FB.csv\")"
   ]
  },
  {
   "cell_type": "code",
   "execution_count": 3,
   "metadata": {},
   "outputs": [
    {
     "data": {
      "text/plain": [
       "pandas.core.frame.DataFrame"
      ]
     },
     "execution_count": 3,
     "metadata": {},
     "output_type": "execute_result"
    }
   ],
   "source": [
    "type(fb)"
   ]
  },
  {
   "cell_type": "code",
   "execution_count": 4,
   "metadata": {},
   "outputs": [
    {
     "data": {
      "text/html": [
       "<div>\n",
       "<style scoped>\n",
       "    .dataframe tbody tr th:only-of-type {\n",
       "        vertical-align: middle;\n",
       "    }\n",
       "\n",
       "    .dataframe tbody tr th {\n",
       "        vertical-align: top;\n",
       "    }\n",
       "\n",
       "    .dataframe thead th {\n",
       "        text-align: right;\n",
       "    }\n",
       "</style>\n",
       "<table border=\"1\" class=\"dataframe\">\n",
       "  <thead>\n",
       "    <tr style=\"text-align: right;\">\n",
       "      <th></th>\n",
       "      <th>Open</th>\n",
       "      <th>High</th>\n",
       "      <th>Low</th>\n",
       "      <th>Close</th>\n",
       "      <th>Adj Close</th>\n",
       "      <th>Volume</th>\n",
       "    </tr>\n",
       "    <tr>\n",
       "      <th>Date</th>\n",
       "      <th></th>\n",
       "      <th></th>\n",
       "      <th></th>\n",
       "      <th></th>\n",
       "      <th></th>\n",
       "      <th></th>\n",
       "    </tr>\n",
       "  </thead>\n",
       "  <tbody>\n",
       "    <tr>\n",
       "      <th>2019-04-01</th>\n",
       "      <td>167.830002</td>\n",
       "      <td>168.899994</td>\n",
       "      <td>167.279999</td>\n",
       "      <td>168.699997</td>\n",
       "      <td>168.699997</td>\n",
       "      <td>10381500</td>\n",
       "    </tr>\n",
       "    <tr>\n",
       "      <th>2019-04-02</th>\n",
       "      <td>170.139999</td>\n",
       "      <td>174.899994</td>\n",
       "      <td>169.550003</td>\n",
       "      <td>174.199997</td>\n",
       "      <td>174.199997</td>\n",
       "      <td>23946500</td>\n",
       "    </tr>\n",
       "    <tr>\n",
       "      <th>2019-04-03</th>\n",
       "      <td>174.500000</td>\n",
       "      <td>177.960007</td>\n",
       "      <td>172.949997</td>\n",
       "      <td>173.539993</td>\n",
       "      <td>173.539993</td>\n",
       "      <td>27590100</td>\n",
       "    </tr>\n",
       "    <tr>\n",
       "      <th>2019-04-04</th>\n",
       "      <td>176.020004</td>\n",
       "      <td>178.000000</td>\n",
       "      <td>175.529999</td>\n",
       "      <td>176.020004</td>\n",
       "      <td>176.020004</td>\n",
       "      <td>17847700</td>\n",
       "    </tr>\n",
       "    <tr>\n",
       "      <th>2019-04-05</th>\n",
       "      <td>176.880005</td>\n",
       "      <td>177.000000</td>\n",
       "      <td>175.100006</td>\n",
       "      <td>175.720001</td>\n",
       "      <td>175.720001</td>\n",
       "      <td>9594100</td>\n",
       "    </tr>\n",
       "  </tbody>\n",
       "</table>\n",
       "</div>"
      ],
      "text/plain": [
       "                  Open        High         Low       Close   Adj Close  \\\n",
       "Date                                                                     \n",
       "2019-04-01  167.830002  168.899994  167.279999  168.699997  168.699997   \n",
       "2019-04-02  170.139999  174.899994  169.550003  174.199997  174.199997   \n",
       "2019-04-03  174.500000  177.960007  172.949997  173.539993  173.539993   \n",
       "2019-04-04  176.020004  178.000000  175.529999  176.020004  176.020004   \n",
       "2019-04-05  176.880005  177.000000  175.100006  175.720001  175.720001   \n",
       "\n",
       "              Volume  \n",
       "Date                  \n",
       "2019-04-01  10381500  \n",
       "2019-04-02  23946500  \n",
       "2019-04-03  27590100  \n",
       "2019-04-04  17847700  \n",
       "2019-04-05   9594100  "
      ]
     },
     "execution_count": 4,
     "metadata": {},
     "output_type": "execute_result"
    }
   ],
   "source": [
    "fb.head()"
   ]
  },
  {
   "cell_type": "code",
   "execution_count": null,
   "metadata": {},
   "outputs": [],
   "source": []
  },
  {
   "cell_type": "code",
   "execution_count": 5,
   "metadata": {},
   "outputs": [
    {
     "name": "stderr",
     "output_type": "stream",
     "text": [
      "C:\\Users\\ramir\\Anaconda3\\lib\\site-packages\\ipykernel_launcher.py:1: FutureWarning: from_csv is deprecated. Please use read_csv(...) instead. Note that some of the default arguments are different, so please refer to the documentation for from_csv when changing your function calls\n",
      "  \"\"\"Entry point for launching an IPython kernel.\n"
     ]
    },
    {
     "data": {
      "text/html": [
       "<div>\n",
       "<style scoped>\n",
       "    .dataframe tbody tr th:only-of-type {\n",
       "        vertical-align: middle;\n",
       "    }\n",
       "\n",
       "    .dataframe tbody tr th {\n",
       "        vertical-align: top;\n",
       "    }\n",
       "\n",
       "    .dataframe thead th {\n",
       "        text-align: right;\n",
       "    }\n",
       "</style>\n",
       "<table border=\"1\" class=\"dataframe\">\n",
       "  <thead>\n",
       "    <tr style=\"text-align: right;\">\n",
       "      <th></th>\n",
       "      <th>Open</th>\n",
       "      <th>High</th>\n",
       "      <th>Low</th>\n",
       "      <th>Close</th>\n",
       "      <th>Adj Close</th>\n",
       "      <th>Volume</th>\n",
       "    </tr>\n",
       "    <tr>\n",
       "      <th>Date</th>\n",
       "      <th></th>\n",
       "      <th></th>\n",
       "      <th></th>\n",
       "      <th></th>\n",
       "      <th></th>\n",
       "      <th></th>\n",
       "    </tr>\n",
       "  </thead>\n",
       "  <tbody>\n",
       "    <tr>\n",
       "      <th>2019-04-01</th>\n",
       "      <td>118.949997</td>\n",
       "      <td>119.110001</td>\n",
       "      <td>118.099998</td>\n",
       "      <td>119.019997</td>\n",
       "      <td>117.465858</td>\n",
       "      <td>22789100</td>\n",
       "    </tr>\n",
       "    <tr>\n",
       "      <th>2019-04-02</th>\n",
       "      <td>119.059998</td>\n",
       "      <td>119.480003</td>\n",
       "      <td>118.519997</td>\n",
       "      <td>119.190002</td>\n",
       "      <td>117.633636</td>\n",
       "      <td>18142300</td>\n",
       "    </tr>\n",
       "    <tr>\n",
       "      <th>2019-04-03</th>\n",
       "      <td>119.860001</td>\n",
       "      <td>120.430000</td>\n",
       "      <td>119.150002</td>\n",
       "      <td>119.970001</td>\n",
       "      <td>118.403458</td>\n",
       "      <td>22860700</td>\n",
       "    </tr>\n",
       "    <tr>\n",
       "      <th>2019-04-04</th>\n",
       "      <td>120.099998</td>\n",
       "      <td>120.230003</td>\n",
       "      <td>118.379997</td>\n",
       "      <td>119.360001</td>\n",
       "      <td>117.801422</td>\n",
       "      <td>20112800</td>\n",
       "    </tr>\n",
       "    <tr>\n",
       "      <th>2019-04-05</th>\n",
       "      <td>119.389999</td>\n",
       "      <td>120.230003</td>\n",
       "      <td>119.370003</td>\n",
       "      <td>119.889999</td>\n",
       "      <td>118.324493</td>\n",
       "      <td>15826200</td>\n",
       "    </tr>\n",
       "  </tbody>\n",
       "</table>\n",
       "</div>"
      ],
      "text/plain": [
       "                  Open        High         Low       Close   Adj Close  \\\n",
       "Date                                                                     \n",
       "2019-04-01  118.949997  119.110001  118.099998  119.019997  117.465858   \n",
       "2019-04-02  119.059998  119.480003  118.519997  119.190002  117.633636   \n",
       "2019-04-03  119.860001  120.430000  119.150002  119.970001  118.403458   \n",
       "2019-04-04  120.099998  120.230003  118.379997  119.360001  117.801422   \n",
       "2019-04-05  119.389999  120.230003  119.370003  119.889999  118.324493   \n",
       "\n",
       "              Volume  \n",
       "Date                  \n",
       "2019-04-01  22789100  \n",
       "2019-04-02  18142300  \n",
       "2019-04-03  22860700  \n",
       "2019-04-04  20112800  \n",
       "2019-04-05  15826200  "
      ]
     },
     "execution_count": 5,
     "metadata": {},
     "output_type": "execute_result"
    }
   ],
   "source": [
    "ms =  pd.DataFrame.from_csv(\"C:/Users/ramir/Documents/Finanzas/MSFT.csv\")\n",
    "ms.head()"
   ]
  },
  {
   "cell_type": "code",
   "execution_count": 6,
   "metadata": {},
   "outputs": [
    {
     "name": "stdout",
     "output_type": "stream",
     "text": [
      "118.949997\n"
     ]
    }
   ],
   "source": [
    "print(ms.iloc[0, 0])"
   ]
  },
  {
   "cell_type": "code",
   "execution_count": 7,
   "metadata": {},
   "outputs": [
    {
     "data": {
      "text/plain": [
       "Index(['Open', 'High', 'Low', 'Close', 'Adj Close', 'Volume'], dtype='object')"
      ]
     },
     "execution_count": 7,
     "metadata": {},
     "output_type": "execute_result"
    }
   ],
   "source": [
    "fb.columns"
   ]
  },
  {
   "cell_type": "code",
   "execution_count": 8,
   "metadata": {},
   "outputs": [
    {
     "data": {
      "text/html": [
       "<div>\n",
       "<style scoped>\n",
       "    .dataframe tbody tr th:only-of-type {\n",
       "        vertical-align: middle;\n",
       "    }\n",
       "\n",
       "    .dataframe tbody tr th {\n",
       "        vertical-align: top;\n",
       "    }\n",
       "\n",
       "    .dataframe thead th {\n",
       "        text-align: right;\n",
       "    }\n",
       "</style>\n",
       "<table border=\"1\" class=\"dataframe\">\n",
       "  <thead>\n",
       "    <tr style=\"text-align: right;\">\n",
       "      <th></th>\n",
       "      <th>Open</th>\n",
       "      <th>High</th>\n",
       "      <th>Low</th>\n",
       "      <th>Close</th>\n",
       "      <th>Adj Close</th>\n",
       "      <th>Volume</th>\n",
       "    </tr>\n",
       "    <tr>\n",
       "      <th>Date</th>\n",
       "      <th></th>\n",
       "      <th></th>\n",
       "      <th></th>\n",
       "      <th></th>\n",
       "      <th></th>\n",
       "      <th></th>\n",
       "    </tr>\n",
       "  </thead>\n",
       "  <tbody>\n",
       "    <tr>\n",
       "      <th>2020-03-24</th>\n",
       "      <td>155.210007</td>\n",
       "      <td>161.309998</td>\n",
       "      <td>152.570007</td>\n",
       "      <td>160.979996</td>\n",
       "      <td>160.979996</td>\n",
       "      <td>30440400</td>\n",
       "    </tr>\n",
       "    <tr>\n",
       "      <th>2020-03-25</th>\n",
       "      <td>158.919998</td>\n",
       "      <td>162.990005</td>\n",
       "      <td>153.059998</td>\n",
       "      <td>156.210007</td>\n",
       "      <td>156.210007</td>\n",
       "      <td>35184300</td>\n",
       "    </tr>\n",
       "    <tr>\n",
       "      <th>2020-03-26</th>\n",
       "      <td>158.250000</td>\n",
       "      <td>164.000000</td>\n",
       "      <td>157.020004</td>\n",
       "      <td>163.339996</td>\n",
       "      <td>163.339996</td>\n",
       "      <td>26556800</td>\n",
       "    </tr>\n",
       "    <tr>\n",
       "      <th>2020-03-27</th>\n",
       "      <td>158.199997</td>\n",
       "      <td>160.089996</td>\n",
       "      <td>154.750000</td>\n",
       "      <td>156.789993</td>\n",
       "      <td>156.789993</td>\n",
       "      <td>24879900</td>\n",
       "    </tr>\n",
       "    <tr>\n",
       "      <th>2020-03-30</th>\n",
       "      <td>159.179993</td>\n",
       "      <td>166.750000</td>\n",
       "      <td>158.059998</td>\n",
       "      <td>165.949997</td>\n",
       "      <td>165.949997</td>\n",
       "      <td>22488400</td>\n",
       "    </tr>\n",
       "  </tbody>\n",
       "</table>\n",
       "</div>"
      ],
      "text/plain": [
       "                  Open        High         Low       Close   Adj Close  \\\n",
       "Date                                                                     \n",
       "2020-03-24  155.210007  161.309998  152.570007  160.979996  160.979996   \n",
       "2020-03-25  158.919998  162.990005  153.059998  156.210007  156.210007   \n",
       "2020-03-26  158.250000  164.000000  157.020004  163.339996  163.339996   \n",
       "2020-03-27  158.199997  160.089996  154.750000  156.789993  156.789993   \n",
       "2020-03-30  159.179993  166.750000  158.059998  165.949997  165.949997   \n",
       "\n",
       "              Volume  \n",
       "Date                  \n",
       "2020-03-24  30440400  \n",
       "2020-03-25  35184300  \n",
       "2020-03-26  26556800  \n",
       "2020-03-27  24879900  \n",
       "2020-03-30  22488400  "
      ]
     },
     "execution_count": 8,
     "metadata": {},
     "output_type": "execute_result"
    }
   ],
   "source": [
    "fb.tail()"
   ]
  },
  {
   "cell_type": "code",
   "execution_count": 9,
   "metadata": {},
   "outputs": [
    {
     "data": {
      "text/html": [
       "<div>\n",
       "<style scoped>\n",
       "    .dataframe tbody tr th:only-of-type {\n",
       "        vertical-align: middle;\n",
       "    }\n",
       "\n",
       "    .dataframe tbody tr th {\n",
       "        vertical-align: top;\n",
       "    }\n",
       "\n",
       "    .dataframe thead th {\n",
       "        text-align: right;\n",
       "    }\n",
       "</style>\n",
       "<table border=\"1\" class=\"dataframe\">\n",
       "  <thead>\n",
       "    <tr style=\"text-align: right;\">\n",
       "      <th></th>\n",
       "      <th>Open</th>\n",
       "      <th>Close</th>\n",
       "    </tr>\n",
       "    <tr>\n",
       "      <th>Date</th>\n",
       "      <th></th>\n",
       "      <th></th>\n",
       "    </tr>\n",
       "  </thead>\n",
       "  <tbody>\n",
       "    <tr>\n",
       "      <th>2019-04-01</th>\n",
       "      <td>167.830002</td>\n",
       "      <td>168.699997</td>\n",
       "    </tr>\n",
       "    <tr>\n",
       "      <th>2019-04-02</th>\n",
       "      <td>170.139999</td>\n",
       "      <td>174.199997</td>\n",
       "    </tr>\n",
       "    <tr>\n",
       "      <th>2019-04-03</th>\n",
       "      <td>174.500000</td>\n",
       "      <td>173.539993</td>\n",
       "    </tr>\n",
       "    <tr>\n",
       "      <th>2019-04-04</th>\n",
       "      <td>176.020004</td>\n",
       "      <td>176.020004</td>\n",
       "    </tr>\n",
       "    <tr>\n",
       "      <th>2019-04-05</th>\n",
       "      <td>176.880005</td>\n",
       "      <td>175.720001</td>\n",
       "    </tr>\n",
       "  </tbody>\n",
       "</table>\n",
       "</div>"
      ],
      "text/plain": [
       "                  Open       Close\n",
       "Date                              \n",
       "2019-04-01  167.830002  168.699997\n",
       "2019-04-02  170.139999  174.199997\n",
       "2019-04-03  174.500000  173.539993\n",
       "2019-04-04  176.020004  176.020004\n",
       "2019-04-05  176.880005  175.720001"
      ]
     },
     "execution_count": 9,
     "metadata": {},
     "output_type": "execute_result"
    }
   ],
   "source": [
    "fb[['Open','Close']].head()"
   ]
  },
  {
   "cell_type": "code",
   "execution_count": 10,
   "metadata": {},
   "outputs": [
    {
     "data": {
      "text/html": [
       "<div>\n",
       "<style scoped>\n",
       "    .dataframe tbody tr th:only-of-type {\n",
       "        vertical-align: middle;\n",
       "    }\n",
       "\n",
       "    .dataframe tbody tr th {\n",
       "        vertical-align: top;\n",
       "    }\n",
       "\n",
       "    .dataframe thead th {\n",
       "        text-align: right;\n",
       "    }\n",
       "</style>\n",
       "<table border=\"1\" class=\"dataframe\">\n",
       "  <thead>\n",
       "    <tr style=\"text-align: right;\">\n",
       "      <th></th>\n",
       "      <th>Open</th>\n",
       "      <th>High</th>\n",
       "      <th>Low</th>\n",
       "      <th>Close</th>\n",
       "      <th>Adj Close</th>\n",
       "      <th>Volume</th>\n",
       "    </tr>\n",
       "  </thead>\n",
       "  <tbody>\n",
       "    <tr>\n",
       "      <th>count</th>\n",
       "      <td>252.000000</td>\n",
       "      <td>252.000000</td>\n",
       "      <td>252.000000</td>\n",
       "      <td>252.000000</td>\n",
       "      <td>252.000000</td>\n",
       "      <td>2.520000e+02</td>\n",
       "    </tr>\n",
       "    <tr>\n",
       "      <th>mean</th>\n",
       "      <td>190.599048</td>\n",
       "      <td>192.746111</td>\n",
       "      <td>188.316270</td>\n",
       "      <td>190.648531</td>\n",
       "      <td>190.648531</td>\n",
       "      <td>1.649657e+07</td>\n",
       "    </tr>\n",
       "    <tr>\n",
       "      <th>std</th>\n",
       "      <td>14.983769</td>\n",
       "      <td>14.415085</td>\n",
       "      <td>15.486429</td>\n",
       "      <td>14.966229</td>\n",
       "      <td>14.966229</td>\n",
       "      <td>8.538702e+06</td>\n",
       "    </tr>\n",
       "    <tr>\n",
       "      <th>min</th>\n",
       "      <td>139.750000</td>\n",
       "      <td>148.179993</td>\n",
       "      <td>137.100006</td>\n",
       "      <td>146.009995</td>\n",
       "      <td>146.009995</td>\n",
       "      <td>6.046300e+06</td>\n",
       "    </tr>\n",
       "    <tr>\n",
       "      <th>25%</th>\n",
       "      <td>181.989994</td>\n",
       "      <td>184.004993</td>\n",
       "      <td>180.015003</td>\n",
       "      <td>181.682495</td>\n",
       "      <td>181.682495</td>\n",
       "      <td>1.113395e+07</td>\n",
       "    </tr>\n",
       "    <tr>\n",
       "      <th>50%</th>\n",
       "      <td>190.000000</td>\n",
       "      <td>191.435005</td>\n",
       "      <td>187.745002</td>\n",
       "      <td>189.544998</td>\n",
       "      <td>189.544998</td>\n",
       "      <td>1.381220e+07</td>\n",
       "    </tr>\n",
       "    <tr>\n",
       "      <th>75%</th>\n",
       "      <td>200.000000</td>\n",
       "      <td>202.365002</td>\n",
       "      <td>198.095005</td>\n",
       "      <td>199.759998</td>\n",
       "      <td>199.759998</td>\n",
       "      <td>1.818788e+07</td>\n",
       "    </tr>\n",
       "    <tr>\n",
       "      <th>max</th>\n",
       "      <td>222.570007</td>\n",
       "      <td>224.199997</td>\n",
       "      <td>221.279999</td>\n",
       "      <td>223.229996</td>\n",
       "      <td>223.229996</td>\n",
       "      <td>5.605960e+07</td>\n",
       "    </tr>\n",
       "  </tbody>\n",
       "</table>\n",
       "</div>"
      ],
      "text/plain": [
       "             Open        High         Low       Close   Adj Close  \\\n",
       "count  252.000000  252.000000  252.000000  252.000000  252.000000   \n",
       "mean   190.599048  192.746111  188.316270  190.648531  190.648531   \n",
       "std     14.983769   14.415085   15.486429   14.966229   14.966229   \n",
       "min    139.750000  148.179993  137.100006  146.009995  146.009995   \n",
       "25%    181.989994  184.004993  180.015003  181.682495  181.682495   \n",
       "50%    190.000000  191.435005  187.745002  189.544998  189.544998   \n",
       "75%    200.000000  202.365002  198.095005  199.759998  199.759998   \n",
       "max    222.570007  224.199997  221.279999  223.229996  223.229996   \n",
       "\n",
       "             Volume  \n",
       "count  2.520000e+02  \n",
       "mean   1.649657e+07  \n",
       "std    8.538702e+06  \n",
       "min    6.046300e+06  \n",
       "25%    1.113395e+07  \n",
       "50%    1.381220e+07  \n",
       "75%    1.818788e+07  \n",
       "max    5.605960e+07  "
      ]
     },
     "execution_count": 10,
     "metadata": {},
     "output_type": "execute_result"
    }
   ],
   "source": [
    "fb.describe()"
   ]
  },
  {
   "cell_type": "code",
   "execution_count": 11,
   "metadata": {},
   "outputs": [
    {
     "data": {
      "text/plain": [
       "<matplotlib.axes._subplots.AxesSubplot at 0x1bd90e55f98>"
      ]
     },
     "execution_count": 11,
     "metadata": {},
     "output_type": "execute_result"
    },
    {
     "data": {
      "image/png": "[encoded data removed]",
      "text/plain": [
       "<Figure size 432x288 with 1 Axes>"
      ]
     },
     "metadata": {
      "needs_background": "light"
     },
     "output_type": "display_data"
    }
   ],
   "source": [
    "fb_plot = fb.Close['2020-01-01' : '2020-03-30'].plot()\n",
    "fb_plot"
   ]
  },
  {
   "cell_type": "code",
   "execution_count": 12,
   "metadata": {},
   "outputs": [
    {
     "data": {
      "text/plain": [
       "223.98801563946165"
      ]
     },
     "execution_count": 12,
     "metadata": {},
     "output_type": "execute_result"
    }
   ],
   "source": [
    "fb['Close'].var()"
   ]
  },
  {
   "cell_type": "code",
   "execution_count": 13,
   "metadata": {},
   "outputs": [
    {
     "data": {
      "text/plain": [
       "625.4807837877808"
      ]
     },
     "execution_count": 13,
     "metadata": {},
     "output_type": "execute_result"
    }
   ],
   "source": [
    "fb.Close['2020-01-01' : '2020-03-30'].var()"
   ]
  },
  {
   "cell_type": "code",
   "execution_count": 14,
   "metadata": {},
   "outputs": [
    {
     "data": {
      "text/html": [
       "<div>\n",
       "<style scoped>\n",
       "    .dataframe tbody tr th:only-of-type {\n",
       "        vertical-align: middle;\n",
       "    }\n",
       "\n",
       "    .dataframe tbody tr th {\n",
       "        vertical-align: top;\n",
       "    }\n",
       "\n",
       "    .dataframe thead th {\n",
       "        text-align: right;\n",
       "    }\n",
       "</style>\n",
       "<table border=\"1\" class=\"dataframe\">\n",
       "  <thead>\n",
       "    <tr style=\"text-align: right;\">\n",
       "      <th></th>\n",
       "      <th>Open</th>\n",
       "      <th>High</th>\n",
       "      <th>Low</th>\n",
       "      <th>Close</th>\n",
       "      <th>Adj Close</th>\n",
       "      <th>Volume</th>\n",
       "      <th>Price1</th>\n",
       "    </tr>\n",
       "    <tr>\n",
       "      <th>Date</th>\n",
       "      <th></th>\n",
       "      <th></th>\n",
       "      <th></th>\n",
       "      <th></th>\n",
       "      <th></th>\n",
       "      <th></th>\n",
       "      <th></th>\n",
       "    </tr>\n",
       "  </thead>\n",
       "  <tbody>\n",
       "    <tr>\n",
       "      <th>2019-04-01</th>\n",
       "      <td>167.830002</td>\n",
       "      <td>168.899994</td>\n",
       "      <td>167.279999</td>\n",
       "      <td>168.699997</td>\n",
       "      <td>168.699997</td>\n",
       "      <td>10381500</td>\n",
       "      <td>174.199997</td>\n",
       "    </tr>\n",
       "    <tr>\n",
       "      <th>2019-04-02</th>\n",
       "      <td>170.139999</td>\n",
       "      <td>174.899994</td>\n",
       "      <td>169.550003</td>\n",
       "      <td>174.199997</td>\n",
       "      <td>174.199997</td>\n",
       "      <td>23946500</td>\n",
       "      <td>173.539993</td>\n",
       "    </tr>\n",
       "    <tr>\n",
       "      <th>2019-04-03</th>\n",
       "      <td>174.500000</td>\n",
       "      <td>177.960007</td>\n",
       "      <td>172.949997</td>\n",
       "      <td>173.539993</td>\n",
       "      <td>173.539993</td>\n",
       "      <td>27590100</td>\n",
       "      <td>176.020004</td>\n",
       "    </tr>\n",
       "    <tr>\n",
       "      <th>2019-04-04</th>\n",
       "      <td>176.020004</td>\n",
       "      <td>178.000000</td>\n",
       "      <td>175.529999</td>\n",
       "      <td>176.020004</td>\n",
       "      <td>176.020004</td>\n",
       "      <td>17847700</td>\n",
       "      <td>175.720001</td>\n",
       "    </tr>\n",
       "    <tr>\n",
       "      <th>2019-04-05</th>\n",
       "      <td>176.880005</td>\n",
       "      <td>177.000000</td>\n",
       "      <td>175.100006</td>\n",
       "      <td>175.720001</td>\n",
       "      <td>175.720001</td>\n",
       "      <td>9594100</td>\n",
       "      <td>174.929993</td>\n",
       "    </tr>\n",
       "  </tbody>\n",
       "</table>\n",
       "</div>"
      ],
      "text/plain": [
       "                  Open        High         Low       Close   Adj Close  \\\n",
       "Date                                                                     \n",
       "2019-04-01  167.830002  168.899994  167.279999  168.699997  168.699997   \n",
       "2019-04-02  170.139999  174.899994  169.550003  174.199997  174.199997   \n",
       "2019-04-03  174.500000  177.960007  172.949997  173.539993  173.539993   \n",
       "2019-04-04  176.020004  178.000000  175.529999  176.020004  176.020004   \n",
       "2019-04-05  176.880005  177.000000  175.100006  175.720001  175.720001   \n",
       "\n",
       "              Volume      Price1  \n",
       "Date                              \n",
       "2019-04-01  10381500  174.199997  \n",
       "2019-04-02  23946500  173.539993  \n",
       "2019-04-03  27590100  176.020004  \n",
       "2019-04-04  17847700  175.720001  \n",
       "2019-04-05   9594100  174.929993  "
      ]
     },
     "execution_count": 14,
     "metadata": {},
     "output_type": "execute_result"
    }
   ],
   "source": [
    "#With shift operator we move a hole column up. Like this we put a new column with the close price of tomorrow:\n",
    "fb['Price1'] = fb['Close'].shift(-1)\n",
    "fb.head()"
   ]
  },
  {
   "cell_type": "code",
   "execution_count": 15,
   "metadata": {},
   "outputs": [
    {
     "data": {
      "text/html": [
       "<div>\n",
       "<style scoped>\n",
       "    .dataframe tbody tr th:only-of-type {\n",
       "        vertical-align: middle;\n",
       "    }\n",
       "\n",
       "    .dataframe tbody tr th {\n",
       "        vertical-align: top;\n",
       "    }\n",
       "\n",
       "    .dataframe thead th {\n",
       "        text-align: right;\n",
       "    }\n",
       "</style>\n",
       "<table border=\"1\" class=\"dataframe\">\n",
       "  <thead>\n",
       "    <tr style=\"text-align: right;\">\n",
       "      <th></th>\n",
       "      <th>Open</th>\n",
       "      <th>High</th>\n",
       "      <th>Low</th>\n",
       "      <th>Close</th>\n",
       "      <th>Adj Close</th>\n",
       "      <th>Volume</th>\n",
       "      <th>Price1</th>\n",
       "      <th>PriceDiff</th>\n",
       "    </tr>\n",
       "    <tr>\n",
       "      <th>Date</th>\n",
       "      <th></th>\n",
       "      <th></th>\n",
       "      <th></th>\n",
       "      <th></th>\n",
       "      <th></th>\n",
       "      <th></th>\n",
       "      <th></th>\n",
       "      <th></th>\n",
       "    </tr>\n",
       "  </thead>\n",
       "  <tbody>\n",
       "    <tr>\n",
       "      <th>2019-04-01</th>\n",
       "      <td>167.830002</td>\n",
       "      <td>168.899994</td>\n",
       "      <td>167.279999</td>\n",
       "      <td>168.699997</td>\n",
       "      <td>168.699997</td>\n",
       "      <td>10381500</td>\n",
       "      <td>174.199997</td>\n",
       "      <td>5.500000</td>\n",
       "    </tr>\n",
       "    <tr>\n",
       "      <th>2019-04-02</th>\n",
       "      <td>170.139999</td>\n",
       "      <td>174.899994</td>\n",
       "      <td>169.550003</td>\n",
       "      <td>174.199997</td>\n",
       "      <td>174.199997</td>\n",
       "      <td>23946500</td>\n",
       "      <td>173.539993</td>\n",
       "      <td>-0.660004</td>\n",
       "    </tr>\n",
       "    <tr>\n",
       "      <th>2019-04-03</th>\n",
       "      <td>174.500000</td>\n",
       "      <td>177.960007</td>\n",
       "      <td>172.949997</td>\n",
       "      <td>173.539993</td>\n",
       "      <td>173.539993</td>\n",
       "      <td>27590100</td>\n",
       "      <td>176.020004</td>\n",
       "      <td>2.480011</td>\n",
       "    </tr>\n",
       "    <tr>\n",
       "      <th>2019-04-04</th>\n",
       "      <td>176.020004</td>\n",
       "      <td>178.000000</td>\n",
       "      <td>175.529999</td>\n",
       "      <td>176.020004</td>\n",
       "      <td>176.020004</td>\n",
       "      <td>17847700</td>\n",
       "      <td>175.720001</td>\n",
       "      <td>-0.300003</td>\n",
       "    </tr>\n",
       "    <tr>\n",
       "      <th>2019-04-05</th>\n",
       "      <td>176.880005</td>\n",
       "      <td>177.000000</td>\n",
       "      <td>175.100006</td>\n",
       "      <td>175.720001</td>\n",
       "      <td>175.720001</td>\n",
       "      <td>9594100</td>\n",
       "      <td>174.929993</td>\n",
       "      <td>-0.790008</td>\n",
       "    </tr>\n",
       "  </tbody>\n",
       "</table>\n",
       "</div>"
      ],
      "text/plain": [
       "                  Open        High         Low       Close   Adj Close  \\\n",
       "Date                                                                     \n",
       "2019-04-01  167.830002  168.899994  167.279999  168.699997  168.699997   \n",
       "2019-04-02  170.139999  174.899994  169.550003  174.199997  174.199997   \n",
       "2019-04-03  174.500000  177.960007  172.949997  173.539993  173.539993   \n",
       "2019-04-04  176.020004  178.000000  175.529999  176.020004  176.020004   \n",
       "2019-04-05  176.880005  177.000000  175.100006  175.720001  175.720001   \n",
       "\n",
       "              Volume      Price1  PriceDiff  \n",
       "Date                                         \n",
       "2019-04-01  10381500  174.199997   5.500000  \n",
       "2019-04-02  23946500  173.539993  -0.660004  \n",
       "2019-04-03  27590100  176.020004   2.480011  \n",
       "2019-04-04  17847700  175.720001  -0.300003  \n",
       "2019-04-05   9594100  174.929993  -0.790008  "
      ]
     },
     "execution_count": 15,
     "metadata": {},
     "output_type": "execute_result"
    }
   ],
   "source": [
    "#Like this we create a new column PriceDiff that is the diference between the price of tomorrow and the close price of today\n",
    "fb['PriceDiff'] = fb['Price1'] - fb['Close']\n",
    "fb.head()"
   ]
  },
  {
   "cell_type": "code",
   "execution_count": 16,
   "metadata": {},
   "outputs": [
    {
     "data": {
      "text/html": [
       "<div>\n",
       "<style scoped>\n",
       "    .dataframe tbody tr th:only-of-type {\n",
       "        vertical-align: middle;\n",
       "    }\n",
       "\n",
       "    .dataframe tbody tr th {\n",
       "        vertical-align: top;\n",
       "    }\n",
       "\n",
       "    .dataframe thead th {\n",
       "        text-align: right;\n",
       "    }\n",
       "</style>\n",
       "<table border=\"1\" class=\"dataframe\">\n",
       "  <thead>\n",
       "    <tr style=\"text-align: right;\">\n",
       "      <th></th>\n",
       "      <th>Open</th>\n",
       "      <th>High</th>\n",
       "      <th>Low</th>\n",
       "      <th>Close</th>\n",
       "      <th>Adj Close</th>\n",
       "      <th>Volume</th>\n",
       "      <th>Price1</th>\n",
       "      <th>PriceDiff</th>\n",
       "      <th>Return</th>\n",
       "    </tr>\n",
       "    <tr>\n",
       "      <th>Date</th>\n",
       "      <th></th>\n",
       "      <th></th>\n",
       "      <th></th>\n",
       "      <th></th>\n",
       "      <th></th>\n",
       "      <th></th>\n",
       "      <th></th>\n",
       "      <th></th>\n",
       "      <th></th>\n",
       "    </tr>\n",
       "  </thead>\n",
       "  <tbody>\n",
       "    <tr>\n",
       "      <th>2019-04-01</th>\n",
       "      <td>167.830002</td>\n",
       "      <td>168.899994</td>\n",
       "      <td>167.279999</td>\n",
       "      <td>168.699997</td>\n",
       "      <td>168.699997</td>\n",
       "      <td>10381500</td>\n",
       "      <td>174.199997</td>\n",
       "      <td>5.500000</td>\n",
       "      <td>0.032602</td>\n",
       "    </tr>\n",
       "    <tr>\n",
       "      <th>2019-04-02</th>\n",
       "      <td>170.139999</td>\n",
       "      <td>174.899994</td>\n",
       "      <td>169.550003</td>\n",
       "      <td>174.199997</td>\n",
       "      <td>174.199997</td>\n",
       "      <td>23946500</td>\n",
       "      <td>173.539993</td>\n",
       "      <td>-0.660004</td>\n",
       "      <td>-0.003789</td>\n",
       "    </tr>\n",
       "    <tr>\n",
       "      <th>2019-04-03</th>\n",
       "      <td>174.500000</td>\n",
       "      <td>177.960007</td>\n",
       "      <td>172.949997</td>\n",
       "      <td>173.539993</td>\n",
       "      <td>173.539993</td>\n",
       "      <td>27590100</td>\n",
       "      <td>176.020004</td>\n",
       "      <td>2.480011</td>\n",
       "      <td>0.014291</td>\n",
       "    </tr>\n",
       "    <tr>\n",
       "      <th>2019-04-04</th>\n",
       "      <td>176.020004</td>\n",
       "      <td>178.000000</td>\n",
       "      <td>175.529999</td>\n",
       "      <td>176.020004</td>\n",
       "      <td>176.020004</td>\n",
       "      <td>17847700</td>\n",
       "      <td>175.720001</td>\n",
       "      <td>-0.300003</td>\n",
       "      <td>-0.001704</td>\n",
       "    </tr>\n",
       "    <tr>\n",
       "      <th>2019-04-05</th>\n",
       "      <td>176.880005</td>\n",
       "      <td>177.000000</td>\n",
       "      <td>175.100006</td>\n",
       "      <td>175.720001</td>\n",
       "      <td>175.720001</td>\n",
       "      <td>9594100</td>\n",
       "      <td>174.929993</td>\n",
       "      <td>-0.790008</td>\n",
       "      <td>-0.004496</td>\n",
       "    </tr>\n",
       "  </tbody>\n",
       "</table>\n",
       "</div>"
      ],
      "text/plain": [
       "                  Open        High         Low       Close   Adj Close  \\\n",
       "Date                                                                     \n",
       "2019-04-01  167.830002  168.899994  167.279999  168.699997  168.699997   \n",
       "2019-04-02  170.139999  174.899994  169.550003  174.199997  174.199997   \n",
       "2019-04-03  174.500000  177.960007  172.949997  173.539993  173.539993   \n",
       "2019-04-04  176.020004  178.000000  175.529999  176.020004  176.020004   \n",
       "2019-04-05  176.880005  177.000000  175.100006  175.720001  175.720001   \n",
       "\n",
       "              Volume      Price1  PriceDiff    Return  \n",
       "Date                                                   \n",
       "2019-04-01  10381500  174.199997   5.500000  0.032602  \n",
       "2019-04-02  23946500  173.539993  -0.660004 -0.003789  \n",
       "2019-04-03  27590100  176.020004   2.480011  0.014291  \n",
       "2019-04-04  17847700  175.720001  -0.300003 -0.001704  \n",
       "2019-04-05   9594100  174.929993  -0.790008 -0.004496  "
      ]
     },
     "execution_count": 16,
     "metadata": {},
     "output_type": "execute_result"
    }
   ],
   "source": [
    "fb['Return'] = fb['PriceDiff']/fb['Close']\n",
    "fb.head()"
   ]
  },
  {
   "cell_type": "code",
   "execution_count": 17,
   "metadata": {},
   "outputs": [
    {
     "data": {
      "text/html": [
       "<div>\n",
       "<style scoped>\n",
       "    .dataframe tbody tr th:only-of-type {\n",
       "        vertical-align: middle;\n",
       "    }\n",
       "\n",
       "    .dataframe tbody tr th {\n",
       "        vertical-align: top;\n",
       "    }\n",
       "\n",
       "    .dataframe thead th {\n",
       "        text-align: right;\n",
       "    }\n",
       "</style>\n",
       "<table border=\"1\" class=\"dataframe\">\n",
       "  <thead>\n",
       "    <tr style=\"text-align: right;\">\n",
       "      <th></th>\n",
       "      <th>Open</th>\n",
       "      <th>High</th>\n",
       "      <th>Low</th>\n",
       "      <th>Close</th>\n",
       "      <th>Adj Close</th>\n",
       "      <th>Volume</th>\n",
       "      <th>Price1</th>\n",
       "      <th>PriceDiff</th>\n",
       "      <th>Return</th>\n",
       "      <th>Direction</th>\n",
       "    </tr>\n",
       "    <tr>\n",
       "      <th>Date</th>\n",
       "      <th></th>\n",
       "      <th></th>\n",
       "      <th></th>\n",
       "      <th></th>\n",
       "      <th></th>\n",
       "      <th></th>\n",
       "      <th></th>\n",
       "      <th></th>\n",
       "      <th></th>\n",
       "      <th></th>\n",
       "    </tr>\n",
       "  </thead>\n",
       "  <tbody>\n",
       "    <tr>\n",
       "      <th>2019-04-01</th>\n",
       "      <td>167.830002</td>\n",
       "      <td>168.899994</td>\n",
       "      <td>167.279999</td>\n",
       "      <td>168.699997</td>\n",
       "      <td>168.699997</td>\n",
       "      <td>10381500</td>\n",
       "      <td>174.199997</td>\n",
       "      <td>5.500000</td>\n",
       "      <td>0.032602</td>\n",
       "      <td>1</td>\n",
       "    </tr>\n",
       "    <tr>\n",
       "      <th>2019-04-02</th>\n",
       "      <td>170.139999</td>\n",
       "      <td>174.899994</td>\n",
       "      <td>169.550003</td>\n",
       "      <td>174.199997</td>\n",
       "      <td>174.199997</td>\n",
       "      <td>23946500</td>\n",
       "      <td>173.539993</td>\n",
       "      <td>-0.660004</td>\n",
       "      <td>-0.003789</td>\n",
       "      <td>-1</td>\n",
       "    </tr>\n",
       "    <tr>\n",
       "      <th>2019-04-03</th>\n",
       "      <td>174.500000</td>\n",
       "      <td>177.960007</td>\n",
       "      <td>172.949997</td>\n",
       "      <td>173.539993</td>\n",
       "      <td>173.539993</td>\n",
       "      <td>27590100</td>\n",
       "      <td>176.020004</td>\n",
       "      <td>2.480011</td>\n",
       "      <td>0.014291</td>\n",
       "      <td>1</td>\n",
       "    </tr>\n",
       "    <tr>\n",
       "      <th>2019-04-04</th>\n",
       "      <td>176.020004</td>\n",
       "      <td>178.000000</td>\n",
       "      <td>175.529999</td>\n",
       "      <td>176.020004</td>\n",
       "      <td>176.020004</td>\n",
       "      <td>17847700</td>\n",
       "      <td>175.720001</td>\n",
       "      <td>-0.300003</td>\n",
       "      <td>-0.001704</td>\n",
       "      <td>-1</td>\n",
       "    </tr>\n",
       "    <tr>\n",
       "      <th>2019-04-05</th>\n",
       "      <td>176.880005</td>\n",
       "      <td>177.000000</td>\n",
       "      <td>175.100006</td>\n",
       "      <td>175.720001</td>\n",
       "      <td>175.720001</td>\n",
       "      <td>9594100</td>\n",
       "      <td>174.929993</td>\n",
       "      <td>-0.790008</td>\n",
       "      <td>-0.004496</td>\n",
       "      <td>-1</td>\n",
       "    </tr>\n",
       "  </tbody>\n",
       "</table>\n",
       "</div>"
      ],
      "text/plain": [
       "                  Open        High         Low       Close   Adj Close  \\\n",
       "Date                                                                     \n",
       "2019-04-01  167.830002  168.899994  167.279999  168.699997  168.699997   \n",
       "2019-04-02  170.139999  174.899994  169.550003  174.199997  174.199997   \n",
       "2019-04-03  174.500000  177.960007  172.949997  173.539993  173.539993   \n",
       "2019-04-04  176.020004  178.000000  175.529999  176.020004  176.020004   \n",
       "2019-04-05  176.880005  177.000000  175.100006  175.720001  175.720001   \n",
       "\n",
       "              Volume      Price1  PriceDiff    Return  Direction  \n",
       "Date                                                              \n",
       "2019-04-01  10381500  174.199997   5.500000  0.032602          1  \n",
       "2019-04-02  23946500  173.539993  -0.660004 -0.003789         -1  \n",
       "2019-04-03  27590100  176.020004   2.480011  0.014291          1  \n",
       "2019-04-04  17847700  175.720001  -0.300003 -0.001704         -1  \n",
       "2019-04-05   9594100  174.929993  -0.790008 -0.004496         -1  "
      ]
     },
     "execution_count": 17,
     "metadata": {},
     "output_type": "execute_result"
    }
   ],
   "source": [
    "fb['Direction'] = [1 if fb.loc[x, 'PriceDiff'] > 0 else -1 #condition\n",
    "                  for x in fb.index] #for every item in index\n",
    "fb.head()"
   ]
  },
  {
   "cell_type": "code",
   "execution_count": 18,
   "metadata": {},
   "outputs": [
    {
     "data": {
      "text/html": [
       "<div>\n",
       "<style scoped>\n",
       "    .dataframe tbody tr th:only-of-type {\n",
       "        vertical-align: middle;\n",
       "    }\n",
       "\n",
       "    .dataframe tbody tr th {\n",
       "        vertical-align: top;\n",
       "    }\n",
       "\n",
       "    .dataframe thead th {\n",
       "        text-align: right;\n",
       "    }\n",
       "</style>\n",
       "<table border=\"1\" class=\"dataframe\">\n",
       "  <thead>\n",
       "    <tr style=\"text-align: right;\">\n",
       "      <th></th>\n",
       "      <th>Open</th>\n",
       "      <th>High</th>\n",
       "      <th>Low</th>\n",
       "      <th>Close</th>\n",
       "      <th>Adj Close</th>\n",
       "      <th>Volume</th>\n",
       "      <th>Price1</th>\n",
       "      <th>PriceDiff</th>\n",
       "      <th>Return</th>\n",
       "      <th>Direction</th>\n",
       "      <th>Average3</th>\n",
       "    </tr>\n",
       "    <tr>\n",
       "      <th>Date</th>\n",
       "      <th></th>\n",
       "      <th></th>\n",
       "      <th></th>\n",
       "      <th></th>\n",
       "      <th></th>\n",
       "      <th></th>\n",
       "      <th></th>\n",
       "      <th></th>\n",
       "      <th></th>\n",
       "      <th></th>\n",
       "      <th></th>\n",
       "    </tr>\n",
       "  </thead>\n",
       "  <tbody>\n",
       "    <tr>\n",
       "      <th>2019-04-01</th>\n",
       "      <td>167.830002</td>\n",
       "      <td>168.899994</td>\n",
       "      <td>167.279999</td>\n",
       "      <td>168.699997</td>\n",
       "      <td>168.699997</td>\n",
       "      <td>10381500</td>\n",
       "      <td>174.199997</td>\n",
       "      <td>5.500000</td>\n",
       "      <td>0.032602</td>\n",
       "      <td>1</td>\n",
       "      <td>NaN</td>\n",
       "    </tr>\n",
       "    <tr>\n",
       "      <th>2019-04-02</th>\n",
       "      <td>170.139999</td>\n",
       "      <td>174.899994</td>\n",
       "      <td>169.550003</td>\n",
       "      <td>174.199997</td>\n",
       "      <td>174.199997</td>\n",
       "      <td>23946500</td>\n",
       "      <td>173.539993</td>\n",
       "      <td>-0.660004</td>\n",
       "      <td>-0.003789</td>\n",
       "      <td>-1</td>\n",
       "      <td>NaN</td>\n",
       "    </tr>\n",
       "    <tr>\n",
       "      <th>2019-04-03</th>\n",
       "      <td>174.500000</td>\n",
       "      <td>177.960007</td>\n",
       "      <td>172.949997</td>\n",
       "      <td>173.539993</td>\n",
       "      <td>173.539993</td>\n",
       "      <td>27590100</td>\n",
       "      <td>176.020004</td>\n",
       "      <td>2.480011</td>\n",
       "      <td>0.014291</td>\n",
       "      <td>1</td>\n",
       "      <td>172.146662</td>\n",
       "    </tr>\n",
       "    <tr>\n",
       "      <th>2019-04-04</th>\n",
       "      <td>176.020004</td>\n",
       "      <td>178.000000</td>\n",
       "      <td>175.529999</td>\n",
       "      <td>176.020004</td>\n",
       "      <td>176.020004</td>\n",
       "      <td>17847700</td>\n",
       "      <td>175.720001</td>\n",
       "      <td>-0.300003</td>\n",
       "      <td>-0.001704</td>\n",
       "      <td>-1</td>\n",
       "      <td>174.586665</td>\n",
       "    </tr>\n",
       "    <tr>\n",
       "      <th>2019-04-05</th>\n",
       "      <td>176.880005</td>\n",
       "      <td>177.000000</td>\n",
       "      <td>175.100006</td>\n",
       "      <td>175.720001</td>\n",
       "      <td>175.720001</td>\n",
       "      <td>9594100</td>\n",
       "      <td>174.929993</td>\n",
       "      <td>-0.790008</td>\n",
       "      <td>-0.004496</td>\n",
       "      <td>-1</td>\n",
       "      <td>175.093333</td>\n",
       "    </tr>\n",
       "  </tbody>\n",
       "</table>\n",
       "</div>"
      ],
      "text/plain": [
       "                  Open        High         Low       Close   Adj Close  \\\n",
       "Date                                                                     \n",
       "2019-04-01  167.830002  168.899994  167.279999  168.699997  168.699997   \n",
       "2019-04-02  170.139999  174.899994  169.550003  174.199997  174.199997   \n",
       "2019-04-03  174.500000  177.960007  172.949997  173.539993  173.539993   \n",
       "2019-04-04  176.020004  178.000000  175.529999  176.020004  176.020004   \n",
       "2019-04-05  176.880005  177.000000  175.100006  175.720001  175.720001   \n",
       "\n",
       "              Volume      Price1  PriceDiff    Return  Direction    Average3  \n",
       "Date                                                                          \n",
       "2019-04-01  10381500  174.199997   5.500000  0.032602          1         NaN  \n",
       "2019-04-02  23946500  173.539993  -0.660004 -0.003789         -1         NaN  \n",
       "2019-04-03  27590100  176.020004   2.480011  0.014291          1  172.146662  \n",
       "2019-04-04  17847700  175.720001  -0.300003 -0.001704         -1  174.586665  \n",
       "2019-04-05   9594100  174.929993  -0.790008 -0.004496         -1  175.093333  "
      ]
     },
     "execution_count": 18,
     "metadata": {},
     "output_type": "execute_result"
    }
   ],
   "source": [
    "#Now we are going to calculate the avearage movement of prices of three days\n",
    "fb['Average3'] = (fb['Close'] + fb['Close'].shift(1)\n",
    "                 + fb['Close'].shift(2))/3\n",
    "fb.head()\n",
    "\n",
    "#With shift one we move the hole column downward one road. So, the price is the one of yesterday.\n",
    "#Shift 2 moves the columns by 3 downward. "
   ]
  },
  {
   "cell_type": "code",
   "execution_count": 19,
   "metadata": {},
   "outputs": [
    {
     "data": {
      "text/html": [
       "<div>\n",
       "<style scoped>\n",
       "    .dataframe tbody tr th:only-of-type {\n",
       "        vertical-align: middle;\n",
       "    }\n",
       "\n",
       "    .dataframe tbody tr th {\n",
       "        vertical-align: top;\n",
       "    }\n",
       "\n",
       "    .dataframe thead th {\n",
       "        text-align: right;\n",
       "    }\n",
       "</style>\n",
       "<table border=\"1\" class=\"dataframe\">\n",
       "  <thead>\n",
       "    <tr style=\"text-align: right;\">\n",
       "      <th></th>\n",
       "      <th>Open</th>\n",
       "      <th>High</th>\n",
       "      <th>Low</th>\n",
       "      <th>Close</th>\n",
       "      <th>Adj Close</th>\n",
       "      <th>Volume</th>\n",
       "      <th>Price1</th>\n",
       "      <th>PriceDiff</th>\n",
       "      <th>Return</th>\n",
       "      <th>Direction</th>\n",
       "      <th>Average3</th>\n",
       "      <th>MA40</th>\n",
       "      <th>MA200</th>\n",
       "    </tr>\n",
       "    <tr>\n",
       "      <th>Date</th>\n",
       "      <th></th>\n",
       "      <th></th>\n",
       "      <th></th>\n",
       "      <th></th>\n",
       "      <th></th>\n",
       "      <th></th>\n",
       "      <th></th>\n",
       "      <th></th>\n",
       "      <th></th>\n",
       "      <th></th>\n",
       "      <th></th>\n",
       "      <th></th>\n",
       "      <th></th>\n",
       "    </tr>\n",
       "  </thead>\n",
       "  <tbody>\n",
       "    <tr>\n",
       "      <th>2019-04-01</th>\n",
       "      <td>167.830002</td>\n",
       "      <td>168.899994</td>\n",
       "      <td>167.279999</td>\n",
       "      <td>168.699997</td>\n",
       "      <td>168.699997</td>\n",
       "      <td>10381500</td>\n",
       "      <td>174.199997</td>\n",
       "      <td>5.500000</td>\n",
       "      <td>0.032602</td>\n",
       "      <td>1</td>\n",
       "      <td>NaN</td>\n",
       "      <td>NaN</td>\n",
       "      <td>NaN</td>\n",
       "    </tr>\n",
       "    <tr>\n",
       "      <th>2019-04-02</th>\n",
       "      <td>170.139999</td>\n",
       "      <td>174.899994</td>\n",
       "      <td>169.550003</td>\n",
       "      <td>174.199997</td>\n",
       "      <td>174.199997</td>\n",
       "      <td>23946500</td>\n",
       "      <td>173.539993</td>\n",
       "      <td>-0.660004</td>\n",
       "      <td>-0.003789</td>\n",
       "      <td>-1</td>\n",
       "      <td>NaN</td>\n",
       "      <td>NaN</td>\n",
       "      <td>NaN</td>\n",
       "    </tr>\n",
       "    <tr>\n",
       "      <th>2019-04-03</th>\n",
       "      <td>174.500000</td>\n",
       "      <td>177.960007</td>\n",
       "      <td>172.949997</td>\n",
       "      <td>173.539993</td>\n",
       "      <td>173.539993</td>\n",
       "      <td>27590100</td>\n",
       "      <td>176.020004</td>\n",
       "      <td>2.480011</td>\n",
       "      <td>0.014291</td>\n",
       "      <td>1</td>\n",
       "      <td>172.146662</td>\n",
       "      <td>NaN</td>\n",
       "      <td>NaN</td>\n",
       "    </tr>\n",
       "    <tr>\n",
       "      <th>2019-04-04</th>\n",
       "      <td>176.020004</td>\n",
       "      <td>178.000000</td>\n",
       "      <td>175.529999</td>\n",
       "      <td>176.020004</td>\n",
       "      <td>176.020004</td>\n",
       "      <td>17847700</td>\n",
       "      <td>175.720001</td>\n",
       "      <td>-0.300003</td>\n",
       "      <td>-0.001704</td>\n",
       "      <td>-1</td>\n",
       "      <td>174.586665</td>\n",
       "      <td>NaN</td>\n",
       "      <td>NaN</td>\n",
       "    </tr>\n",
       "    <tr>\n",
       "      <th>2019-04-05</th>\n",
       "      <td>176.880005</td>\n",
       "      <td>177.000000</td>\n",
       "      <td>175.100006</td>\n",
       "      <td>175.720001</td>\n",
       "      <td>175.720001</td>\n",
       "      <td>9594100</td>\n",
       "      <td>174.929993</td>\n",
       "      <td>-0.790008</td>\n",
       "      <td>-0.004496</td>\n",
       "      <td>-1</td>\n",
       "      <td>175.093333</td>\n",
       "      <td>NaN</td>\n",
       "      <td>NaN</td>\n",
       "    </tr>\n",
       "  </tbody>\n",
       "</table>\n",
       "</div>"
      ],
      "text/plain": [
       "                  Open        High         Low       Close   Adj Close  \\\n",
       "Date                                                                     \n",
       "2019-04-01  167.830002  168.899994  167.279999  168.699997  168.699997   \n",
       "2019-04-02  170.139999  174.899994  169.550003  174.199997  174.199997   \n",
       "2019-04-03  174.500000  177.960007  172.949997  173.539993  173.539993   \n",
       "2019-04-04  176.020004  178.000000  175.529999  176.020004  176.020004   \n",
       "2019-04-05  176.880005  177.000000  175.100006  175.720001  175.720001   \n",
       "\n",
       "              Volume      Price1  PriceDiff    Return  Direction    Average3  \\\n",
       "Date                                                                           \n",
       "2019-04-01  10381500  174.199997   5.500000  0.032602          1         NaN   \n",
       "2019-04-02  23946500  173.539993  -0.660004 -0.003789         -1         NaN   \n",
       "2019-04-03  27590100  176.020004   2.480011  0.014291          1  172.146662   \n",
       "2019-04-04  17847700  175.720001  -0.300003 -0.001704         -1  174.586665   \n",
       "2019-04-05   9594100  174.929993  -0.790008 -0.004496         -1  175.093333   \n",
       "\n",
       "            MA40  MA200  \n",
       "Date                     \n",
       "2019-04-01   NaN    NaN  \n",
       "2019-04-02   NaN    NaN  \n",
       "2019-04-03   NaN    NaN  \n",
       "2019-04-04   NaN    NaN  \n",
       "2019-04-05   NaN    NaN  "
      ]
     },
     "execution_count": 19,
     "metadata": {},
     "output_type": "execute_result"
    }
   ],
   "source": [
    "fb['MA40'] = fb['Close'].rolling (40).mean()\n",
    "fb['MA200'] = fb['Close'].rolling (200).mean()\n",
    "\n",
    "fb.head()"
   ]
  },
  {
   "cell_type": "markdown",
   "metadata": {},
   "source": [
    "Pandas dataframe.rolling() function provides the feature of rolling window calculations. The concept of rolling window calculation is most primarily used in signal processing and time series data. In a very simple words we take a window size of k at a time and perform some desired mathematical operation on it. A window of size k means k consecutive values at a time. In a very simple case all the ‘k’ values are equally weighted."
   ]
  },
  {
   "cell_type": "code",
   "execution_count": 20,
   "metadata": {},
   "outputs": [
    {
     "data": {
      "text/plain": [
       "<matplotlib.axes._subplots.AxesSubplot at 0x1bd911ea908>"
      ]
     },
     "execution_count": 20,
     "metadata": {},
     "output_type": "execute_result"
    },
    {
     "data": {
      "image/png": "[encoded data removed]",
      "text/plain": [
       "<Figure size 432x288 with 1 Axes>"
      ]
     },
     "metadata": {
      "needs_background": "light"
     },
     "output_type": "display_data"
    }
   ],
   "source": [
    "fb['Close'].plot()\n",
    "fb['MA40'].plot()\n",
    "fb['MA200'].plot()"
   ]
  },
  {
   "cell_type": "code",
   "execution_count": 21,
   "metadata": {},
   "outputs": [
    {
     "data": {
      "text/plain": [
       "<matplotlib.axes._subplots.AxesSubplot at 0x1bd91253080>"
      ]
     },
     "execution_count": 21,
     "metadata": {},
     "output_type": "execute_result"
    },
    {
     "data": {
      "image/png": "[encoded data removed]",
      "text/plain": [
       "<Figure size 432x288 with 1 Axes>"
      ]
     },
     "metadata": {
      "needs_background": "light"
     },
     "output_type": "display_data"
    }
   ],
   "source": [
    "fb.loc['01-12-2019':'01-04-2020','Close'].plot()\n",
    "fb.loc['01-12-2019':'01-04-2020', 'MA40'].plot()\n",
    "fb['MA200'].plot()"
   ]
  },
  {
   "cell_type": "markdown",
   "metadata": {},
   "source": [
    "We can see how the average of prices of 40 days (orange) are compared to the original close price. We can see that the MA40 is a \"fast signal\" and the MA200 is a slow signal which reflects the price over a long history. If MA40 is above MA200 (MA40 > MA200) some traders who we call trend-following traders, they believe the stock price will move upwards for a while. "
   ]
  },
  {
   "cell_type": "markdown",
   "metadata": {},
   "source": [
    "## Simple strategy of stock trading"
   ]
  },
  {
   "cell_type": "markdown",
   "metadata": {},
   "source": [
    "Moving average of stock period is more asociated with recent change of stock price (fast signal). "
   ]
  },
  {
   "cell_type": "code",
   "execution_count": 22,
   "metadata": {},
   "outputs": [
    {
     "data": {
      "text/html": [
       "<div>\n",
       "<style scoped>\n",
       "    .dataframe tbody tr th:only-of-type {\n",
       "        vertical-align: middle;\n",
       "    }\n",
       "\n",
       "    .dataframe tbody tr th {\n",
       "        vertical-align: top;\n",
       "    }\n",
       "\n",
       "    .dataframe thead th {\n",
       "        text-align: right;\n",
       "    }\n",
       "</style>\n",
       "<table border=\"1\" class=\"dataframe\">\n",
       "  <thead>\n",
       "    <tr style=\"text-align: right;\">\n",
       "      <th></th>\n",
       "      <th>Open</th>\n",
       "      <th>High</th>\n",
       "      <th>Low</th>\n",
       "      <th>Close</th>\n",
       "      <th>Adj Close</th>\n",
       "      <th>Volume</th>\n",
       "    </tr>\n",
       "    <tr>\n",
       "      <th>Date</th>\n",
       "      <th></th>\n",
       "      <th></th>\n",
       "      <th></th>\n",
       "      <th></th>\n",
       "      <th></th>\n",
       "      <th></th>\n",
       "    </tr>\n",
       "  </thead>\n",
       "  <tbody>\n",
       "    <tr>\n",
       "      <th>2019-04-01</th>\n",
       "      <td>118.949997</td>\n",
       "      <td>119.110001</td>\n",
       "      <td>118.099998</td>\n",
       "      <td>119.019997</td>\n",
       "      <td>117.465858</td>\n",
       "      <td>22789100</td>\n",
       "    </tr>\n",
       "    <tr>\n",
       "      <th>2019-04-02</th>\n",
       "      <td>119.059998</td>\n",
       "      <td>119.480003</td>\n",
       "      <td>118.519997</td>\n",
       "      <td>119.190002</td>\n",
       "      <td>117.633636</td>\n",
       "      <td>18142300</td>\n",
       "    </tr>\n",
       "    <tr>\n",
       "      <th>2019-04-03</th>\n",
       "      <td>119.860001</td>\n",
       "      <td>120.430000</td>\n",
       "      <td>119.150002</td>\n",
       "      <td>119.970001</td>\n",
       "      <td>118.403458</td>\n",
       "      <td>22860700</td>\n",
       "    </tr>\n",
       "    <tr>\n",
       "      <th>2019-04-04</th>\n",
       "      <td>120.099998</td>\n",
       "      <td>120.230003</td>\n",
       "      <td>118.379997</td>\n",
       "      <td>119.360001</td>\n",
       "      <td>117.801422</td>\n",
       "      <td>20112800</td>\n",
       "    </tr>\n",
       "    <tr>\n",
       "      <th>2019-04-05</th>\n",
       "      <td>119.389999</td>\n",
       "      <td>120.230003</td>\n",
       "      <td>119.370003</td>\n",
       "      <td>119.889999</td>\n",
       "      <td>118.324493</td>\n",
       "      <td>15826200</td>\n",
       "    </tr>\n",
       "  </tbody>\n",
       "</table>\n",
       "</div>"
      ],
      "text/plain": [
       "                  Open        High         Low       Close   Adj Close  \\\n",
       "Date                                                                     \n",
       "2019-04-01  118.949997  119.110001  118.099998  119.019997  117.465858   \n",
       "2019-04-02  119.059998  119.480003  118.519997  119.190002  117.633636   \n",
       "2019-04-03  119.860001  120.430000  119.150002  119.970001  118.403458   \n",
       "2019-04-04  120.099998  120.230003  118.379997  119.360001  117.801422   \n",
       "2019-04-05  119.389999  120.230003  119.370003  119.889999  118.324493   \n",
       "\n",
       "              Volume  \n",
       "Date                  \n",
       "2019-04-01  22789100  \n",
       "2019-04-02  18142300  \n",
       "2019-04-03  22860700  \n",
       "2019-04-04  20112800  \n",
       "2019-04-05  15826200  "
      ]
     },
     "execution_count": 22,
     "metadata": {},
     "output_type": "execute_result"
    }
   ],
   "source": [
    "ms.head()"
   ]
  },
  {
   "cell_type": "code",
   "execution_count": 23,
   "metadata": {},
   "outputs": [],
   "source": [
    "ms['MA10'] =  ms['Close'].rolling(10).mean() #fast signal\n",
    "ms['MA50'] =  ms['Close'].rolling(90).mean() #slow signal"
   ]
  },
  {
   "cell_type": "code",
   "execution_count": 24,
   "metadata": {},
   "outputs": [
    {
     "data": {
      "text/plain": [
       "<matplotlib.axes._subplots.AxesSubplot at 0x1bd912be0b8>"
      ]
     },
     "execution_count": 24,
     "metadata": {},
     "output_type": "execute_result"
    },
    {
     "data": {
      "image/png": "[encoded data removed]",
      "text/plain": [
       "<Figure size 432x288 with 1 Axes>"
      ]
     },
     "metadata": {
      "needs_background": "light"
     },
     "output_type": "display_data"
    }
   ],
   "source": [
    "ms['Close'].plot(legend = True)\n",
    "ms['MA10'].plot(legend = True)\n",
    "ms['MA50'].plot(legend = True)"
   ]
  },
  {
   "cell_type": "markdown",
   "metadata": {},
   "source": [
    "If MA10 is greater than MA50, it is believed that the stock price will go up in the next several days.Otherwise, the price will decrease. So, the strategy is, that is MA10 is greater than MA50, we will buy a share of a stock. We can create a variable called shares to denote if we long or not (if we will buy or not). "
   ]
  },
  {
   "cell_type": "code",
   "execution_count": 25,
   "metadata": {},
   "outputs": [],
   "source": [
    "ms['Shares'] = [1 if ms.loc[x, 'MA10'] > ms.loc[x, 'MA50'] else 0\n",
    "               for x in ms.index]\n",
    "\n",
    "#'Shares' is equal to 1 if MA10 is larger than MA50, otherwise it is 0."
   ]
  },
  {
   "cell_type": "markdown",
   "metadata": {},
   "source": [
    "Next, we will compute daily profit. First, we create a new variable with the close price of tomorrow. "
   ]
  },
  {
   "cell_type": "code",
   "execution_count": 26,
   "metadata": {},
   "outputs": [],
   "source": [
    "ms['Close1'] = ms['Close'].shift(-1)"
   ]
  },
  {
   "cell_type": "markdown",
   "metadata": {},
   "source": [
    "Then, we will create a new variable called Porfit, which is the daily profit if it is negative, we lose money on that day, if positive we earn money that day. "
   ]
  },
  {
   "cell_type": "code",
   "execution_count": 27,
   "metadata": {},
   "outputs": [],
   "source": [
    "ms['Profit'] = [ms.loc[x, 'Close1'] - ms.loc[x, 'Close']\n",
    "               if ms.loc[x, 'Shares'] == 1\n",
    "               else 0 for x in ms.index]\n",
    "\n",
    "#If shares is equal to 1, the daily profit is the close price of tomorrow minus the close price of today.\n",
    "#If shares is equal to 0, it means that we do not haver stocks at hand. "
   ]
  },
  {
   "cell_type": "markdown",
   "metadata": {},
   "source": [
    "We can plot the profit to see which days we make money, and wich days we loose. "
   ]
  },
  {
   "cell_type": "code",
   "execution_count": 28,
   "metadata": {},
   "outputs": [
    {
     "data": {
      "text/plain": [
       "<matplotlib.lines.Line2D at 0x1bd91325a90>"
      ]
     },
     "execution_count": 28,
     "metadata": {},
     "output_type": "execute_result"
    },
    {
     "data": {
      "image/png": "[encoded data removed]",
      "text/plain": [
       "<Figure size 432x288 with 1 Axes>"
      ]
     },
     "metadata": {
      "needs_background": "light"
     },
     "output_type": "display_data"
    }
   ],
   "source": [
    "ms['Profit'].plot()\n",
    "plt.axhline(y=0, color='red')"
   ]
  },
  {
   "cell_type": "markdown",
   "metadata": {},
   "source": [
    "The values that are above 0 is where we gain money, and the values down the 0 is where we loose money. "
   ]
  },
  {
   "cell_type": "markdown",
   "metadata": {},
   "source": [
    "We can also compute the cumulative wealth. For this we are going to use cumsum (Return cumulative sum over a DataFrame or Series axis.)"
   ]
  },
  {
   "cell_type": "code",
   "execution_count": 29,
   "metadata": {},
   "outputs": [],
   "source": [
    "ms['Wealth'] = ms['Profit'].cumsum()\n",
    "\n",
    "#cumsum is to compute cumulative wealth."
   ]
  },
  {
   "cell_type": "code",
   "execution_count": 30,
   "metadata": {},
   "outputs": [
    {
     "data": {
      "text/html": [
       "<div>\n",
       "<style scoped>\n",
       "    .dataframe tbody tr th:only-of-type {\n",
       "        vertical-align: middle;\n",
       "    }\n",
       "\n",
       "    .dataframe tbody tr th {\n",
       "        vertical-align: top;\n",
       "    }\n",
       "\n",
       "    .dataframe thead th {\n",
       "        text-align: right;\n",
       "    }\n",
       "</style>\n",
       "<table border=\"1\" class=\"dataframe\">\n",
       "  <thead>\n",
       "    <tr style=\"text-align: right;\">\n",
       "      <th></th>\n",
       "      <th>Open</th>\n",
       "      <th>High</th>\n",
       "      <th>Low</th>\n",
       "      <th>Close</th>\n",
       "      <th>Adj Close</th>\n",
       "      <th>Volume</th>\n",
       "      <th>MA10</th>\n",
       "      <th>MA50</th>\n",
       "      <th>Shares</th>\n",
       "      <th>Close1</th>\n",
       "      <th>Profit</th>\n",
       "      <th>Wealth</th>\n",
       "    </tr>\n",
       "    <tr>\n",
       "      <th>Date</th>\n",
       "      <th></th>\n",
       "      <th></th>\n",
       "      <th></th>\n",
       "      <th></th>\n",
       "      <th></th>\n",
       "      <th></th>\n",
       "      <th></th>\n",
       "      <th></th>\n",
       "      <th></th>\n",
       "      <th></th>\n",
       "      <th></th>\n",
       "      <th></th>\n",
       "    </tr>\n",
       "  </thead>\n",
       "  <tbody>\n",
       "    <tr>\n",
       "      <th>2020-03-24</th>\n",
       "      <td>143.750000</td>\n",
       "      <td>149.600006</td>\n",
       "      <td>141.270004</td>\n",
       "      <td>148.339996</td>\n",
       "      <td>148.339996</td>\n",
       "      <td>82516700</td>\n",
       "      <td>143.829001</td>\n",
       "      <td>160.718444</td>\n",
       "      <td>0</td>\n",
       "      <td>146.919998</td>\n",
       "      <td>0.0</td>\n",
       "      <td>3.779999</td>\n",
       "    </tr>\n",
       "    <tr>\n",
       "      <th>2020-03-25</th>\n",
       "      <td>148.910004</td>\n",
       "      <td>154.330002</td>\n",
       "      <td>144.440002</td>\n",
       "      <td>146.919998</td>\n",
       "      <td>146.919998</td>\n",
       "      <td>75638200</td>\n",
       "      <td>143.158000</td>\n",
       "      <td>160.714111</td>\n",
       "      <td>0</td>\n",
       "      <td>156.110001</td>\n",
       "      <td>0.0</td>\n",
       "      <td>3.779999</td>\n",
       "    </tr>\n",
       "    <tr>\n",
       "      <th>2020-03-26</th>\n",
       "      <td>148.399994</td>\n",
       "      <td>156.660004</td>\n",
       "      <td>148.369995</td>\n",
       "      <td>156.110001</td>\n",
       "      <td>156.110001</td>\n",
       "      <td>64568100</td>\n",
       "      <td>144.863000</td>\n",
       "      <td>160.803555</td>\n",
       "      <td>0</td>\n",
       "      <td>149.699997</td>\n",
       "      <td>0.0</td>\n",
       "      <td>3.779999</td>\n",
       "    </tr>\n",
       "    <tr>\n",
       "      <th>2020-03-27</th>\n",
       "      <td>151.750000</td>\n",
       "      <td>154.889999</td>\n",
       "      <td>149.199997</td>\n",
       "      <td>149.699997</td>\n",
       "      <td>149.699997</td>\n",
       "      <td>57042300</td>\n",
       "      <td>143.950000</td>\n",
       "      <td>160.800555</td>\n",
       "      <td>0</td>\n",
       "      <td>160.229996</td>\n",
       "      <td>0.0</td>\n",
       "      <td>3.779999</td>\n",
       "    </tr>\n",
       "    <tr>\n",
       "      <th>2020-03-30</th>\n",
       "      <td>152.440002</td>\n",
       "      <td>160.600006</td>\n",
       "      <td>150.009995</td>\n",
       "      <td>160.229996</td>\n",
       "      <td>160.229996</td>\n",
       "      <td>63132100</td>\n",
       "      <td>146.431000</td>\n",
       "      <td>160.910444</td>\n",
       "      <td>0</td>\n",
       "      <td>NaN</td>\n",
       "      <td>0.0</td>\n",
       "      <td>3.779999</td>\n",
       "    </tr>\n",
       "  </tbody>\n",
       "</table>\n",
       "</div>"
      ],
      "text/plain": [
       "                  Open        High         Low       Close   Adj Close  \\\n",
       "Date                                                                     \n",
       "2020-03-24  143.750000  149.600006  141.270004  148.339996  148.339996   \n",
       "2020-03-25  148.910004  154.330002  144.440002  146.919998  146.919998   \n",
       "2020-03-26  148.399994  156.660004  148.369995  156.110001  156.110001   \n",
       "2020-03-27  151.750000  154.889999  149.199997  149.699997  149.699997   \n",
       "2020-03-30  152.440002  160.600006  150.009995  160.229996  160.229996   \n",
       "\n",
       "              Volume        MA10        MA50  Shares      Close1  Profit  \\\n",
       "Date                                                                       \n",
       "2020-03-24  82516700  143.829001  160.718444       0  146.919998     0.0   \n",
       "2020-03-25  75638200  143.158000  160.714111       0  156.110001     0.0   \n",
       "2020-03-26  64568100  144.863000  160.803555       0  149.699997     0.0   \n",
       "2020-03-27  57042300  143.950000  160.800555       0  160.229996     0.0   \n",
       "2020-03-30  63132100  146.431000  160.910444       0         NaN     0.0   \n",
       "\n",
       "              Wealth  \n",
       "Date                  \n",
       "2020-03-24  3.779999  \n",
       "2020-03-25  3.779999  \n",
       "2020-03-26  3.779999  \n",
       "2020-03-27  3.779999  \n",
       "2020-03-30  3.779999  "
      ]
     },
     "execution_count": 30,
     "metadata": {},
     "output_type": "execute_result"
    }
   ],
   "source": [
    "ms.tail()"
   ]
  },
  {
   "cell_type": "markdown",
   "metadata": {},
   "source": [
    "When we check the tail aprt of the Data Frame we are going to see if we make money or loose money. Thise strategy make us gain 3.79 dolars per stock we have bought. "
   ]
  },
  {
   "cell_type": "code",
   "execution_count": 31,
   "metadata": {},
   "outputs": [
    {
     "data": {
      "text/plain": [
       "<matplotlib.axes._subplots.AxesSubplot at 0x1bd913c6710>"
      ]
     },
     "execution_count": 31,
     "metadata": {},
     "output_type": "execute_result"
    },
    {
     "data": {
      "image/png": "[encoded data removed]",
      "text/plain": [
       "<Figure size 432x288 with 1 Axes>"
      ]
     },
     "metadata": {
      "needs_background": "light"
     },
     "output_type": "display_data"
    }
   ],
   "source": [
    "ms['Wealth'].plot()"
   ]
  },
  {
   "cell_type": "markdown",
   "metadata": {},
   "source": [
    "This strategy seems to be intresting up to the crack of the Covid-19. "
   ]
  },
  {
   "cell_type": "markdown",
   "metadata": {},
   "source": [
    "Now, it is important to apply some statistics. MA10 and MA50 are called random variables. Which is the probability that some of those occurs? How is the frecuency of each? We must ask all these questions to avoid loses."
   ]
  },
  {
   "cell_type": "markdown",
   "metadata": {},
   "source": [
    "## Basic concepts of random variables"
   ]
  },
  {
   "cell_type": "markdown",
   "metadata": {},
   "source": [
    "Random variables are like the dices. When we throw them, we can expect random values each time. If we roll the dices 50 times, we get 50 observations. The sum of the two faces is the random variable that we are going to call it \"x\". There is a difference between the discrete variables (integer numbers) vs continues variables (float numbers). The daily return of a stock is a continue variable. We are going to do the dice example:"
   ]
  },
  {
   "cell_type": "code",
   "execution_count": 32,
   "metadata": {},
   "outputs": [
    {
     "data": {
      "text/plain": [
       "[4, 10, 8, 4, 8, 7, 8, 5, 4, 8]"
      ]
     },
     "execution_count": 32,
     "metadata": {},
     "output_type": "execute_result"
    }
   ],
   "source": [
    "die = pd.DataFrame([1,2,3,4,5,6])\n",
    "trial = 50\n",
    "results = [die.sample(2, replace=True).sum().loc[0] for i in range (trial)]\n",
    "results[:10]"
   ]
  },
  {
   "cell_type": "markdown",
   "metadata": {},
   "source": [
    "Frecuency of observed outcomes. Totally, we tried 50 times and we get 50 realized outcomes of sum. Now, we want to calculate the frecuency in this collection of outcomes. For this, we are going to use the pandas method value_counts (method to count values)."
   ]
  },
  {
   "cell_type": "code",
   "execution_count": 33,
   "metadata": {},
   "outputs": [
    {
     "data": {
      "text/plain": [
       "3     2\n",
       "4     4\n",
       "5     5\n",
       "6     3\n",
       "7     9\n",
       "8     7\n",
       "9     8\n",
       "10    6\n",
       "11    5\n",
       "12    1\n",
       "Name: 0, dtype: int64"
      ]
     },
     "execution_count": 33,
     "metadata": {},
     "output_type": "execute_result"
    }
   ],
   "source": [
    "freq = pd.DataFrame(results)[0].value_counts()\n",
    "sort_freq = freq.sort_index()\n",
    "sort_freq"
   ]
  },
  {
   "cell_type": "markdown",
   "metadata": {},
   "source": [
    "Here, we can see the values and the frecuency that they had when we trhow the two dices.So, the sum 8 came out 9 times. We can plot the frecuency using a bar chart. "
   ]
  },
  {
   "cell_type": "code",
   "execution_count": 34,
   "metadata": {},
   "outputs": [
    {
     "data": {
      "text/plain": [
       "<matplotlib.axes._subplots.AxesSubplot at 0x1bd91427320>"
      ]
     },
     "execution_count": 34,
     "metadata": {},
     "output_type": "execute_result"
    },
    {
     "data": {
      "image/png": "[encoded data removed]",
      "text/plain": [
       "<Figure size 432x288 with 1 Axes>"
      ]
     },
     "metadata": {
      "needs_background": "light"
     },
     "output_type": "display_data"
    }
   ],
   "source": [
    "sort_freq.plot(kind='bar', color='blue')"
   ]
  },
  {
   "cell_type": "markdown",
   "metadata": {},
   "source": [
    "We can also make the relative frecuency = frecuency/number of trials. The chart won't change, buy will chenge the Y axis. As we increase the number of trails, the relative frecuency becomes more and more stable. "
   ]
  },
  {
   "cell_type": "code",
   "execution_count": 35,
   "metadata": {},
   "outputs": [
    {
     "data": {
      "text/plain": [
       "<matplotlib.axes._subplots.AxesSubplot at 0x1bd914817f0>"
      ]
     },
     "execution_count": 35,
     "metadata": {},
     "output_type": "execute_result"
    },
    {
     "data": {
      "image/png": "[encoded data removed]",
      "text/plain": [
       "<Figure size 432x288 with 1 Axes>"
      ]
     },
     "metadata": {
      "needs_background": "light"
     },
     "output_type": "display_data"
    }
   ],
   "source": [
    "trial = 4000\n",
    "results = [die.sample(2, replace=True).sum().loc[0] for i in range (trial)]\n",
    "freq = pd.DataFrame(results)[0].value_counts()\n",
    "sort_freq = freq.sort_index()\n",
    "relative_freq = sort_freq/trial\n",
    "relative_freq.plot(kind='bar', color='lightblue')"
   ]
  },
  {
   "cell_type": "markdown",
   "metadata": {},
   "source": [
    "As we can see, it is very similar to a normal distribution. "
   ]
  },
  {
   "cell_type": "markdown",
   "metadata": {},
   "source": [
    "Mean (or expectation) and variables are two characteristics of the distribution of random variables. The mean is the sum of the possible otcome x the probability for that outcome. The variance describes the variation of an outcome, which formula is the sum of the (possible outcome - Mean)squared x probability of that to become. \n",
    "\n",
    "So, for discrete random variables we can find probability easily by checking the table of the distribution. It is more complicated in continuous cases, where it is the area under the probability density function. Ths distribution of a stock return is continous. "
   ]
  },
  {
   "cell_type": "markdown",
   "metadata": {},
   "source": [
    "## Models of distribution "
   ]
  },
  {
   "cell_type": "code",
   "execution_count": 36,
   "metadata": {},
   "outputs": [
    {
     "name": "stderr",
     "output_type": "stream",
     "text": [
      "C:\\Users\\ramir\\Anaconda3\\lib\\site-packages\\ipykernel_launcher.py:1: FutureWarning: from_csv is deprecated. Please use read_csv(...) instead. Note that some of the default arguments are different, so please refer to the documentation for from_csv when changing your function calls\n",
      "  \"\"\"Entry point for launching an IPython kernel.\n"
     ]
    }
   ],
   "source": [
    "appl = pd.DataFrame.from_csv('C:/Users/ramir/Documents/Finanzas/apple.csv')"
   ]
  },
  {
   "cell_type": "code",
   "execution_count": 37,
   "metadata": {},
   "outputs": [
    {
     "data": {
      "text/plain": [
       "<matplotlib.axes._subplots.AxesSubplot at 0x1bd9153d2e8>"
      ]
     },
     "execution_count": 37,
     "metadata": {},
     "output_type": "execute_result"
    },
    {
     "data": {
      "image/png": "[encoded data removed]",
      "text/plain": [
       "<Figure size 432x288 with 1 Axes>"
      ]
     },
     "metadata": {
      "needs_background": "light"
     },
     "output_type": "display_data"
    }
   ],
   "source": [
    "appl['Close'].plot()"
   ]
  },
  {
   "cell_type": "markdown",
   "metadata": {},
   "source": [
    "From August 2012 to May 2013, the stock price drop over 40%. So, we need to compute what's the chance that the yearly return can be less than negative 40%. Is that possible or just an extreme case like black swan? We compute log daily return for stock price of Apple. "
   ]
  },
  {
   "cell_type": "code",
   "execution_count": 38,
   "metadata": {},
   "outputs": [
    {
     "data": {
      "text/plain": [
       "<matplotlib.axes._subplots.AxesSubplot at 0x1bd915a35c0>"
      ]
     },
     "execution_count": 38,
     "metadata": {},
     "output_type": "execute_result"
    },
    {
     "data": {
      "image/png": "[encoded data removed]",
      "text/plain": [
       "<Figure size 432x288 with 1 Axes>"
      ]
     },
     "metadata": {
      "needs_background": "light"
     },
     "output_type": "display_data"
    }
   ],
   "source": [
    "appl['LogReturn'] = np.log(appl['Close']).shift(-1) - np.log(appl['Close'])\n",
    "appl['LogReturn'].hist(bins=50)"
   ]
  },
  {
   "cell_type": "markdown",
   "metadata": {},
   "source": [
    "The histogram that we see is very similar to a normal distribution. "
   ]
  },
  {
   "cell_type": "code",
   "execution_count": 39,
   "metadata": {},
   "outputs": [
    {
     "data": {
      "text/plain": [
       "<matplotlib.axes._subplots.AxesSubplot at 0x1bd91676dd8>"
      ]
     },
     "execution_count": 39,
     "metadata": {},
     "output_type": "execute_result"
    },
    {
     "data": {
      "image/png": "[encoded data removed]",
      "text/plain": [
       "<Figure size 432x288 with 1 Axes>"
      ]
     },
     "metadata": {
      "needs_background": "light"
     },
     "output_type": "display_data"
    }
   ],
   "source": [
    "appl['Return'] = appl['Close'].shift(-1) - appl['Close']\n",
    "appl['Return'].hist(bins=50)"
   ]
  },
  {
   "cell_type": "code",
   "execution_count": null,
   "metadata": {},
   "outputs": [],
   "source": []
  },
  {
   "cell_type": "code",
   "execution_count": 40,
   "metadata": {},
   "outputs": [
    {
     "data": {
      "text/plain": [
       "[<matplotlib.lines.Line2D at 0x1bd917937b8>]"
      ]
     },
     "execution_count": 40,
     "metadata": {},
     "output_type": "execute_result"
    },
    {
     "data": {
      "image/png": "[encoded data removed]",
      "text/plain": [
       "<Figure size 432x288 with 1 Axes>"
      ]
     },
     "metadata": {
      "needs_background": "light"
     },
     "output_type": "display_data"
    }
   ],
   "source": [
    "density = pd.DataFrame()\n",
    "density['x'] = np.arange(-4,4,0.001)\n",
    "density['pdf'] = norm.pdf(density['x'],0,1)\n",
    "density['cdf'] = norm.cdf(density['x'],0,1)\n",
    "\n",
    "plt.plot(density['x'], density['pdf'])"
   ]
  },
  {
   "cell_type": "markdown",
   "metadata": {},
   "source": [
    "This is the graph of the normal density, symmetric with a mean and symmetric center. It is also bell shaped."
   ]
  },
  {
   "cell_type": "code",
   "execution_count": 41,
   "metadata": {},
   "outputs": [
    {
     "data": {
      "text/plain": [
       "[<matplotlib.lines.Line2D at 0x1bd917d1cf8>]"
      ]
     },
     "execution_count": 41,
     "metadata": {},
     "output_type": "execute_result"
    },
    {
     "data": {
      "image/png": "[encoded data removed]",
      "text/plain": [
       "<Figure size 432x288 with 1 Axes>"
      ]
     },
     "metadata": {
      "needs_background": "light"
     },
     "output_type": "display_data"
    }
   ],
   "source": [
    "plt.plot(density['x'], density['cdf'])"
   ]
  },
  {
   "cell_type": "markdown",
   "metadata": {},
   "source": [
    "This is the cumulative distribution function, where x takes large values. The cummulative probability will aproach 1. We can model daily stock return using normal distribution. We do not know the real mean and standard deviation of the normal distribution of Apple stock. We can calculate the mean and std deviation in the collection of the historic data which will not be the same but there will be close enought. "
   ]
  },
  {
   "cell_type": "code",
   "execution_count": 42,
   "metadata": {},
   "outputs": [
    {
     "name": "stdout",
     "output_type": "stream",
     "text": [
      "0.0011307385340900366 0.02453610719067392\n"
     ]
    }
   ],
   "source": [
    "mu = appl['LogReturn'].mean()\n",
    "sigma = appl['LogReturn'].std(ddof = 1)\n",
    "print (mu, sigma)"
   ]
  },
  {
   "cell_type": "markdown",
   "metadata": {},
   "source": [
    "So, our objective is to know the probability to Apple stock to drop more than 40% in one year (220 days of stock trading). To do this, we will assume that the daily returns are indeptendent, what is a mistake and is not true. "
   ]
  },
  {
   "cell_type": "code",
   "execution_count": 43,
   "metadata": {},
   "outputs": [
    {
     "name": "stdout",
     "output_type": "stream",
     "text": [
      "0.24876247749980804 0.36392928205338587\n",
      "The probability of falling over 40% in 220 days is  0.03732076527047984\n"
     ]
    }
   ],
   "source": [
    "mu220 = 220*mu\n",
    "sigma220 = 220**0.5*sigma\n",
    "print(mu220, sigma220)\n",
    "\n",
    "print('The probability of falling over 40% in 220 days is ',\n",
    "     norm.cdf(-0.4, mu220, sigma220))"
   ]
  },
  {
   "cell_type": "markdown",
   "metadata": {},
   "source": [
    "This means, that there is a 3.7% of probabilities that the stock will fall more than 40% in one year."
   ]
  },
  {
   "cell_type": "markdown",
   "metadata": {},
   "source": [
    "In finance there is an important risk meassure called VaR (value at risk). The VaR estimates how much a set of investments might lose with a gain probability. It is usually used to estimate the amount of asses needed to cover possible loss. For example: 5% of quantile of daily return is called a 95% VaR or VaR at the level of 95%. \n",
    "\n",
    "\n",
    "Is it good to use the normal distribution to the stocks? Fama and French says that the returns are rather symmetric about their means, but the tails are fatter, that means that there are more outliers than expected with normal distributions. This menas that returns on the tails (negatives or positives) may occure more often than we expected. "
   ]
  },
  {
   "cell_type": "markdown",
   "metadata": {},
   "source": [
    "Before continuing we are going to practice with Microsoft stock."
   ]
  },
  {
   "cell_type": "markdown",
   "metadata": {},
   "source": [
    "### Practice with Microsoft stock"
   ]
  },
  {
   "cell_type": "code",
   "execution_count": 44,
   "metadata": {},
   "outputs": [
    {
     "data": {
      "text/html": [
       "<div>\n",
       "<style scoped>\n",
       "    .dataframe tbody tr th:only-of-type {\n",
       "        vertical-align: middle;\n",
       "    }\n",
       "\n",
       "    .dataframe tbody tr th {\n",
       "        vertical-align: top;\n",
       "    }\n",
       "\n",
       "    .dataframe thead th {\n",
       "        text-align: right;\n",
       "    }\n",
       "</style>\n",
       "<table border=\"1\" class=\"dataframe\">\n",
       "  <thead>\n",
       "    <tr style=\"text-align: right;\">\n",
       "      <th></th>\n",
       "      <th>Open</th>\n",
       "      <th>High</th>\n",
       "      <th>Low</th>\n",
       "      <th>Close</th>\n",
       "      <th>Adj Close</th>\n",
       "      <th>Volume</th>\n",
       "      <th>MA10</th>\n",
       "      <th>MA50</th>\n",
       "      <th>Shares</th>\n",
       "      <th>Close1</th>\n",
       "      <th>Profit</th>\n",
       "      <th>Wealth</th>\n",
       "    </tr>\n",
       "    <tr>\n",
       "      <th>Date</th>\n",
       "      <th></th>\n",
       "      <th></th>\n",
       "      <th></th>\n",
       "      <th></th>\n",
       "      <th></th>\n",
       "      <th></th>\n",
       "      <th></th>\n",
       "      <th></th>\n",
       "      <th></th>\n",
       "      <th></th>\n",
       "      <th></th>\n",
       "      <th></th>\n",
       "    </tr>\n",
       "  </thead>\n",
       "  <tbody>\n",
       "    <tr>\n",
       "      <th>2019-04-01</th>\n",
       "      <td>118.949997</td>\n",
       "      <td>119.110001</td>\n",
       "      <td>118.099998</td>\n",
       "      <td>119.019997</td>\n",
       "      <td>117.465858</td>\n",
       "      <td>22789100</td>\n",
       "      <td>NaN</td>\n",
       "      <td>NaN</td>\n",
       "      <td>0</td>\n",
       "      <td>119.190002</td>\n",
       "      <td>0.0</td>\n",
       "      <td>0.0</td>\n",
       "    </tr>\n",
       "    <tr>\n",
       "      <th>2019-04-02</th>\n",
       "      <td>119.059998</td>\n",
       "      <td>119.480003</td>\n",
       "      <td>118.519997</td>\n",
       "      <td>119.190002</td>\n",
       "      <td>117.633636</td>\n",
       "      <td>18142300</td>\n",
       "      <td>NaN</td>\n",
       "      <td>NaN</td>\n",
       "      <td>0</td>\n",
       "      <td>119.970001</td>\n",
       "      <td>0.0</td>\n",
       "      <td>0.0</td>\n",
       "    </tr>\n",
       "    <tr>\n",
       "      <th>2019-04-03</th>\n",
       "      <td>119.860001</td>\n",
       "      <td>120.430000</td>\n",
       "      <td>119.150002</td>\n",
       "      <td>119.970001</td>\n",
       "      <td>118.403458</td>\n",
       "      <td>22860700</td>\n",
       "      <td>NaN</td>\n",
       "      <td>NaN</td>\n",
       "      <td>0</td>\n",
       "      <td>119.360001</td>\n",
       "      <td>0.0</td>\n",
       "      <td>0.0</td>\n",
       "    </tr>\n",
       "    <tr>\n",
       "      <th>2019-04-04</th>\n",
       "      <td>120.099998</td>\n",
       "      <td>120.230003</td>\n",
       "      <td>118.379997</td>\n",
       "      <td>119.360001</td>\n",
       "      <td>117.801422</td>\n",
       "      <td>20112800</td>\n",
       "      <td>NaN</td>\n",
       "      <td>NaN</td>\n",
       "      <td>0</td>\n",
       "      <td>119.889999</td>\n",
       "      <td>0.0</td>\n",
       "      <td>0.0</td>\n",
       "    </tr>\n",
       "    <tr>\n",
       "      <th>2019-04-05</th>\n",
       "      <td>119.389999</td>\n",
       "      <td>120.230003</td>\n",
       "      <td>119.370003</td>\n",
       "      <td>119.889999</td>\n",
       "      <td>118.324493</td>\n",
       "      <td>15826200</td>\n",
       "      <td>NaN</td>\n",
       "      <td>NaN</td>\n",
       "      <td>0</td>\n",
       "      <td>119.930000</td>\n",
       "      <td>0.0</td>\n",
       "      <td>0.0</td>\n",
       "    </tr>\n",
       "  </tbody>\n",
       "</table>\n",
       "</div>"
      ],
      "text/plain": [
       "                  Open        High         Low       Close   Adj Close  \\\n",
       "Date                                                                     \n",
       "2019-04-01  118.949997  119.110001  118.099998  119.019997  117.465858   \n",
       "2019-04-02  119.059998  119.480003  118.519997  119.190002  117.633636   \n",
       "2019-04-03  119.860001  120.430000  119.150002  119.970001  118.403458   \n",
       "2019-04-04  120.099998  120.230003  118.379997  119.360001  117.801422   \n",
       "2019-04-05  119.389999  120.230003  119.370003  119.889999  118.324493   \n",
       "\n",
       "              Volume  MA10  MA50  Shares      Close1  Profit  Wealth  \n",
       "Date                                                                  \n",
       "2019-04-01  22789100   NaN   NaN       0  119.190002     0.0     0.0  \n",
       "2019-04-02  18142300   NaN   NaN       0  119.970001     0.0     0.0  \n",
       "2019-04-03  22860700   NaN   NaN       0  119.360001     0.0     0.0  \n",
       "2019-04-04  20112800   NaN   NaN       0  119.889999     0.0     0.0  \n",
       "2019-04-05  15826200   NaN   NaN       0  119.930000     0.0     0.0  "
      ]
     },
     "execution_count": 44,
     "metadata": {},
     "output_type": "execute_result"
    }
   ],
   "source": [
    "ms.head()"
   ]
  },
  {
   "cell_type": "code",
   "execution_count": 45,
   "metadata": {},
   "outputs": [],
   "source": [
    "ms['LogReturn'] = np.log(ms['Close']).shift(-1) - np.log(ms['Close'])"
   ]
  },
  {
   "cell_type": "code",
   "execution_count": 46,
   "metadata": {},
   "outputs": [
    {
     "data": {
      "image/png": "[encoded data removed]",
      "text/plain": [
       "<Figure size 1080x576 with 1 Axes>"
      ]
     },
     "metadata": {
      "needs_background": "light"
     },
     "output_type": "display_data"
    }
   ],
   "source": [
    "mu = ms['LogReturn'].mean()\n",
    "sigma = ms['LogReturn'].std(ddof=1)\n",
    "\n",
    "density = pd.DataFrame()\n",
    "density['x'] = np.arange(ms['LogReturn'].min()-0.01, ms['LogReturn'].max()+0.01, 0.001)\n",
    "density['pdf'] = norm.pdf(density['x'], mu, sigma) #Normal distribution\n",
    "\n",
    "ms['LogReturn'].hist(bins=50, figsize=(15, 8))\n",
    "plt.plot(density['x'], density['pdf'], color='red')\n",
    "plt.show()"
   ]
  },
  {
   "cell_type": "code",
   "execution_count": 47,
   "metadata": {},
   "outputs": [
    {
     "name": "stdout",
     "output_type": "stream",
     "text": [
      "The Probability is  1.6751927864489238 %\n"
     ]
    }
   ],
   "source": [
    "# probability that the stock price of microsoft will drop over 5% in a day\n",
    "prob_return1 = norm.cdf(-0.05, mu, sigma)\n",
    "print('The Probability is ', prob_return1*100,'%')"
   ]
  },
  {
   "cell_type": "code",
   "execution_count": 48,
   "metadata": {},
   "outputs": [
    {
     "name": "stdout",
     "output_type": "stream",
     "text": [
      "The Probability is  1.3182552258618564e-05\n"
     ]
    }
   ],
   "source": [
    "# probability that the stock price of microsoft will drop over 10% in a day\n",
    "prob_return2 = norm.cdf(-0.10, mu, sigma)\n",
    "print('The Probability is ', prob_return2)"
   ]
  },
  {
   "cell_type": "markdown",
   "metadata": {},
   "source": [
    "#### Calculate the probability of the stock price will drop over a certain percentage in a year"
   ]
  },
  {
   "cell_type": "code",
   "execution_count": 49,
   "metadata": {},
   "outputs": [
    {
     "name": "stdout",
     "output_type": "stream",
     "text": [
      "The probability of dropping over 40% in 220 days is  0.03216375321197867\n"
     ]
    }
   ],
   "source": [
    "mu220 = 220*mu\n",
    "sigma220 = (220**0.5) * sigma\n",
    "print('The probability of dropping over 40% in 220 days is ', norm.cdf(-0.4, mu220, sigma220))"
   ]
  },
  {
   "cell_type": "code",
   "execution_count": 50,
   "metadata": {},
   "outputs": [
    {
     "name": "stdout",
     "output_type": "stream",
     "text": [
      "The probability of dropping over 20% in 220 days is  0.09855415140925161\n"
     ]
    }
   ],
   "source": [
    "# drop over 20% in 220 days\n",
    "mu220 = 220*mu\n",
    "sigma220 = (220**0.5) * sigma\n",
    "drop20 = norm.cdf(-0.2, mu220, sigma220)\n",
    "print('The probability of dropping over 20% in 220 days is ', drop20)"
   ]
  },
  {
   "cell_type": "markdown",
   "metadata": {},
   "source": [
    "#### Calculate Value at risk (VaR)"
   ]
  },
  {
   "cell_type": "code",
   "execution_count": 51,
   "metadata": {},
   "outputs": [
    {
     "name": "stdout",
     "output_type": "stream",
     "text": [
      "Single day value at risk  -0.03841628848096878\n"
     ]
    }
   ],
   "source": [
    "# Value at risk(VaR)\n",
    "VaR = norm.ppf(0.05, mu, sigma)\n",
    "print('Single day value at risk ', VaR)"
   ]
  },
  {
   "cell_type": "code",
   "execution_count": 52,
   "metadata": {},
   "outputs": [
    {
     "name": "stdout",
     "output_type": "stream",
     "text": [
      "5% quantile  -0.03841628848096878\n",
      "95% quantile  0.04078536208291948\n"
     ]
    }
   ],
   "source": [
    "# Quatile \n",
    "# 5% quantile\n",
    "print('5% quantile ', norm.ppf(0.05, mu, sigma))\n",
    "# 95% quantile\n",
    "print('95% quantile ', norm.ppf(0.95, mu, sigma))"
   ]
  },
  {
   "cell_type": "code",
   "execution_count": 53,
   "metadata": {},
   "outputs": [
    {
     "name": "stdout",
     "output_type": "stream",
     "text": [
      "25% quantile  -0.015054203421448819\n",
      "75% quantile  0.017423277023399544\n"
     ]
    }
   ],
   "source": [
    "#25% and 75% Quantile of the return\n",
    "# 25% quantile\n",
    "q25 = norm.ppf(0.25, mu, sigma)\n",
    "print('25% quantile ', q25)\n",
    "# 75% quantile\n",
    "q75 = norm.ppf(0.75, mu, sigma) \n",
    "print('75% quantile ', q75)"
   ]
  },
  {
   "cell_type": "markdown",
   "metadata": {},
   "source": [
    "CDF is used to calculate an area under the bell directly. \n",
    "PFF is used to calculate an area -1 under the bell. "
   ]
  },
  {
   "cell_type": "markdown",
   "metadata": {},
   "source": [
    "## Importing data from Yahoo Finance"
   ]
  },
  {
   "cell_type": "code",
   "execution_count": 54,
   "metadata": {},
   "outputs": [],
   "source": [
    "import datetime\n",
    "import pandas_datareader.data as web"
   ]
  },
  {
   "cell_type": "code",
   "execution_count": 55,
   "metadata": {},
   "outputs": [
    {
     "data": {
      "text/html": [
       "<div>\n",
       "<style scoped>\n",
       "    .dataframe tbody tr th:only-of-type {\n",
       "        vertical-align: middle;\n",
       "    }\n",
       "\n",
       "    .dataframe tbody tr th {\n",
       "        vertical-align: top;\n",
       "    }\n",
       "\n",
       "    .dataframe thead th {\n",
       "        text-align: right;\n",
       "    }\n",
       "</style>\n",
       "<table border=\"1\" class=\"dataframe\">\n",
       "  <thead>\n",
       "    <tr style=\"text-align: right;\">\n",
       "      <th></th>\n",
       "      <th>High</th>\n",
       "      <th>Low</th>\n",
       "      <th>Open</th>\n",
       "      <th>Close</th>\n",
       "      <th>Volume</th>\n",
       "      <th>Adj Close</th>\n",
       "    </tr>\n",
       "    <tr>\n",
       "      <th>Date</th>\n",
       "      <th></th>\n",
       "      <th></th>\n",
       "      <th></th>\n",
       "      <th></th>\n",
       "      <th></th>\n",
       "      <th></th>\n",
       "    </tr>\n",
       "  </thead>\n",
       "  <tbody>\n",
       "    <tr>\n",
       "      <th>2020-03-26</th>\n",
       "      <td>258.679993</td>\n",
       "      <td>246.360001</td>\n",
       "      <td>246.520004</td>\n",
       "      <td>258.440002</td>\n",
       "      <td>63021800.0</td>\n",
       "      <td>258.440002</td>\n",
       "    </tr>\n",
       "    <tr>\n",
       "      <th>2020-03-27</th>\n",
       "      <td>255.869995</td>\n",
       "      <td>247.050003</td>\n",
       "      <td>252.750000</td>\n",
       "      <td>247.740005</td>\n",
       "      <td>51054200.0</td>\n",
       "      <td>247.740005</td>\n",
       "    </tr>\n",
       "    <tr>\n",
       "      <th>2020-03-30</th>\n",
       "      <td>255.520004</td>\n",
       "      <td>249.399994</td>\n",
       "      <td>250.740005</td>\n",
       "      <td>254.809998</td>\n",
       "      <td>41994100.0</td>\n",
       "      <td>254.809998</td>\n",
       "    </tr>\n",
       "    <tr>\n",
       "      <th>2020-03-31</th>\n",
       "      <td>262.489990</td>\n",
       "      <td>252.000000</td>\n",
       "      <td>255.600006</td>\n",
       "      <td>254.289993</td>\n",
       "      <td>49250500.0</td>\n",
       "      <td>254.289993</td>\n",
       "    </tr>\n",
       "    <tr>\n",
       "      <th>2020-04-01</th>\n",
       "      <td>248.720001</td>\n",
       "      <td>239.130005</td>\n",
       "      <td>246.500000</td>\n",
       "      <td>240.910004</td>\n",
       "      <td>44054600.0</td>\n",
       "      <td>240.910004</td>\n",
       "    </tr>\n",
       "  </tbody>\n",
       "</table>\n",
       "</div>"
      ],
      "text/plain": [
       "                  High         Low        Open       Close      Volume  \\\n",
       "Date                                                                     \n",
       "2020-03-26  258.679993  246.360001  246.520004  258.440002  63021800.0   \n",
       "2020-03-27  255.869995  247.050003  252.750000  247.740005  51054200.0   \n",
       "2020-03-30  255.520004  249.399994  250.740005  254.809998  41994100.0   \n",
       "2020-03-31  262.489990  252.000000  255.600006  254.289993  49250500.0   \n",
       "2020-04-01  248.720001  239.130005  246.500000  240.910004  44054600.0   \n",
       "\n",
       "             Adj Close  \n",
       "Date                    \n",
       "2020-03-26  258.440002  \n",
       "2020-03-27  247.740005  \n",
       "2020-03-30  254.809998  \n",
       "2020-03-31  254.289993  \n",
       "2020-04-01  240.910004  "
      ]
     },
     "execution_count": 55,
     "metadata": {},
     "output_type": "execute_result"
    }
   ],
   "source": [
    "start = datetime.datetime(2010, 1, 1) #starting date\n",
    "end = datetime.datetime(2020, 4, 1) #ending date\n",
    "\n",
    "df = web.DataReader(\"AAPL\", 'yahoo', start, end) #(stock, platform, start, end)\n",
    "df.tail()"
   ]
  },
  {
   "cell_type": "code",
   "execution_count": 56,
   "metadata": {},
   "outputs": [
    {
     "data": {
      "text/html": [
       "<div>\n",
       "<style scoped>\n",
       "    .dataframe tbody tr th:only-of-type {\n",
       "        vertical-align: middle;\n",
       "    }\n",
       "\n",
       "    .dataframe tbody tr th {\n",
       "        vertical-align: top;\n",
       "    }\n",
       "\n",
       "    .dataframe thead th {\n",
       "        text-align: right;\n",
       "    }\n",
       "</style>\n",
       "<table border=\"1\" class=\"dataframe\">\n",
       "  <thead>\n",
       "    <tr style=\"text-align: right;\">\n",
       "      <th></th>\n",
       "      <th>High</th>\n",
       "      <th>Low</th>\n",
       "      <th>Open</th>\n",
       "      <th>Close</th>\n",
       "      <th>Volume</th>\n",
       "      <th>Adj Close</th>\n",
       "    </tr>\n",
       "    <tr>\n",
       "      <th>Date</th>\n",
       "      <th></th>\n",
       "      <th></th>\n",
       "      <th></th>\n",
       "      <th></th>\n",
       "      <th></th>\n",
       "      <th></th>\n",
       "    </tr>\n",
       "  </thead>\n",
       "  <tbody>\n",
       "    <tr>\n",
       "      <th>2010-01-04</th>\n",
       "      <td>30.642857</td>\n",
       "      <td>30.340000</td>\n",
       "      <td>30.490000</td>\n",
       "      <td>30.572857</td>\n",
       "      <td>123432400.0</td>\n",
       "      <td>26.538483</td>\n",
       "    </tr>\n",
       "    <tr>\n",
       "      <th>2010-01-05</th>\n",
       "      <td>30.798571</td>\n",
       "      <td>30.464285</td>\n",
       "      <td>30.657143</td>\n",
       "      <td>30.625713</td>\n",
       "      <td>150476200.0</td>\n",
       "      <td>26.584366</td>\n",
       "    </tr>\n",
       "    <tr>\n",
       "      <th>2010-01-06</th>\n",
       "      <td>30.747143</td>\n",
       "      <td>30.107143</td>\n",
       "      <td>30.625713</td>\n",
       "      <td>30.138571</td>\n",
       "      <td>138040000.0</td>\n",
       "      <td>26.161509</td>\n",
       "    </tr>\n",
       "    <tr>\n",
       "      <th>2010-01-07</th>\n",
       "      <td>30.285715</td>\n",
       "      <td>29.864286</td>\n",
       "      <td>30.250000</td>\n",
       "      <td>30.082857</td>\n",
       "      <td>119282800.0</td>\n",
       "      <td>26.113146</td>\n",
       "    </tr>\n",
       "    <tr>\n",
       "      <th>2010-01-08</th>\n",
       "      <td>30.285715</td>\n",
       "      <td>29.865715</td>\n",
       "      <td>30.042856</td>\n",
       "      <td>30.282858</td>\n",
       "      <td>111902700.0</td>\n",
       "      <td>26.286753</td>\n",
       "    </tr>\n",
       "  </tbody>\n",
       "</table>\n",
       "</div>"
      ],
      "text/plain": [
       "                 High        Low       Open      Close       Volume  Adj Close\n",
       "Date                                                                          \n",
       "2010-01-04  30.642857  30.340000  30.490000  30.572857  123432400.0  26.538483\n",
       "2010-01-05  30.798571  30.464285  30.657143  30.625713  150476200.0  26.584366\n",
       "2010-01-06  30.747143  30.107143  30.625713  30.138571  138040000.0  26.161509\n",
       "2010-01-07  30.285715  29.864286  30.250000  30.082857  119282800.0  26.113146\n",
       "2010-01-08  30.285715  29.865715  30.042856  30.282858  111902700.0  26.286753"
      ]
     },
     "execution_count": 56,
     "metadata": {},
     "output_type": "execute_result"
    }
   ],
   "source": [
    "df.head()"
   ]
  },
  {
   "cell_type": "markdown",
   "metadata": {},
   "source": [
    "## Statistics inference"
   ]
  },
  {
   "cell_type": "markdown",
   "metadata": {},
   "source": [
    "#### Basic concepts of population and samples"
   ]
  },
  {
   "cell_type": "markdown",
   "metadata": {},
   "source": [
    "Population is a group of individuals that have something in common. We may be intrested in ome properties about certain group, which we called target population that cannot be observed completely. Since we cannot obtain information for every individual of these populations, we have to take samples which is a part of target population. Sample is a small group of population (a representation of the population), hence it has to be randomly selected. This process is called random sampling. \n",
    "\n",
    "There are two kind of samplings: sampling without replacement and sampling with replacement. It depends if you put againg the selected individual in the sample or not before you select the ext one. In a sampling without replacemente, an individual can be selected only one time. In the sampling with replacement it is possible that the same individual can be selected more than once (so, everyone on the population has the same chance of being selected). Example:"
   ]
  },
  {
   "cell_type": "code",
   "execution_count": 57,
   "metadata": {},
   "outputs": [],
   "source": [
    "data = pd.DataFrame({})\n",
    "data['Population'] = [47, 48, 85, 20, 19, 13, 72, 16, 50, 60]"
   ]
  },
  {
   "cell_type": "code",
   "execution_count": 58,
   "metadata": {},
   "outputs": [
    {
     "data": {
      "text/plain": [
       "9    60\n",
       "6    72\n",
       "3    20\n",
       "4    19\n",
       "1    48\n",
       "Name: Population, dtype: int64"
      ]
     },
     "execution_count": 58,
     "metadata": {},
     "output_type": "execute_result"
    }
   ],
   "source": [
    "#sampling without replacement. The keyword is replace=False\n",
    "a_sample_without_replacement = data['Population'].sample(5, replace=False)\n",
    "a_sample_without_replacement"
   ]
  },
  {
   "cell_type": "markdown",
   "metadata": {},
   "source": [
    "In this sampling without replacemente there are no duplicate values. "
   ]
  },
  {
   "cell_type": "code",
   "execution_count": 59,
   "metadata": {},
   "outputs": [
    {
     "data": {
      "text/plain": [
       "9    60\n",
       "5    13\n",
       "4    19\n",
       "0    47\n",
       "5    13\n",
       "Name: Population, dtype: int64"
      ]
     },
     "execution_count": 59,
     "metadata": {},
     "output_type": "execute_result"
    }
   ],
   "source": [
    "#sampling with replacement. The keyword is replace=True\n",
    "a_sample_with_replacement = data['Population'].sample(5, replace=True)\n",
    "a_sample_with_replacement"
   ]
  },
  {
   "cell_type": "markdown",
   "metadata": {},
   "source": [
    "In the sampling with replacement, we have duplicated values. "
   ]
  },
  {
   "cell_type": "markdown",
   "metadata": {},
   "source": [
    "Besides population sample, there is another pair of concepts: parameter and statistics. Parameter is a characteristic or summary number of populations. Statistics is a characteristic or summary number of samples. For example: it is not the same the mean or variance of the hole population than the one of the sample. In the parameters, once the population is fixed, these summary numbers will not change. On the other hand, the values of the statistics of the sample will change when we choose different samples (even if they are from the same population).  "
   ]
  },
  {
   "cell_type": "code",
   "execution_count": 60,
   "metadata": {},
   "outputs": [
    {
     "name": "stdout",
     "output_type": "stream",
     "text": [
      "43.0\n",
      "635.3333333333334\n",
      "25.20581943387942\n",
      "10\n"
     ]
    }
   ],
   "source": [
    "print(data['Population'].mean())\n",
    "print(data['Population'].var())\n",
    "print(data['Population'].std())\n",
    "print(data['Population'].shape[0])"
   ]
  },
  {
   "cell_type": "code",
   "execution_count": 61,
   "metadata": {},
   "outputs": [],
   "source": [
    "a_sample = data['Population'].sample(10, replace = True)"
   ]
  },
  {
   "cell_type": "code",
   "execution_count": 62,
   "metadata": {},
   "outputs": [
    {
     "name": "stdout",
     "output_type": "stream",
     "text": [
      "43.2\n",
      "324.4\n",
      "18.01110768387108\n",
      "10\n"
     ]
    }
   ],
   "source": [
    "print(a_sample.mean())\n",
    "print(a_sample.var(ddof=1))\n",
    "print(a_sample.std(ddof=1))\n",
    "print(a_sample.shape[0])\n",
    "#ddof = 1 means that when we use the sample to compute the sample variance we will lose a grade of freedom.\n",
    "#In the formula of sample variance is n-1"
   ]
  },
  {
   "cell_type": "markdown",
   "metadata": {},
   "source": [
    "As we can see, the population parameters are always the same. but the sttistics sample change whe we run the a_sample and the next line of code once again. "
   ]
  },
  {
   "cell_type": "markdown",
   "metadata": {},
   "source": [
    "#### Variation of sample and Central Limit theorem"
   ]
  },
  {
   "cell_type": "markdown",
   "metadata": {},
   "source": [
    "We have a stock data of 100 days, we can compute sample mean and variance of stock return. Based on statistics, can we show inference to the parameters? How close are the statistics to population parameters? By observing the stock data of 100 days, can we make a claim that this stock is in an upward trend? That is mean of the return is positive. "
   ]
  },
  {
   "cell_type": "markdown",
   "metadata": {},
   "source": [
    "As we said, the sample statistics change. However they do not change arbitrarily because they are all taken from the same population. "
   ]
  },
  {
   "cell_type": "code",
   "execution_count": 63,
   "metadata": {},
   "outputs": [],
   "source": [
    "meanlist = []\n",
    "for t in range(10000):\n",
    "    sample = pd.DataFrame(np.random.normal(10, 5, size=30))\n",
    "    meanlist.append(sample[0].mean())"
   ]
  },
  {
   "cell_type": "code",
   "execution_count": 64,
   "metadata": {},
   "outputs": [],
   "source": [
    "collection = pd.DataFrame()\n",
    "collection['meanlist'] = meanlist"
   ]
  },
  {
   "cell_type": "code",
   "execution_count": 65,
   "metadata": {},
   "outputs": [
    {
     "name": "stderr",
     "output_type": "stream",
     "text": [
      "C:\\Users\\ramir\\Anaconda3\\lib\\site-packages\\matplotlib\\axes\\_axes.py:6571: UserWarning: The 'normed' kwarg is deprecated, and has been replaced by the 'density' kwarg.\n",
      "  warnings.warn(\"The 'normed' kwarg is deprecated, and has been \"\n"
     ]
    },
    {
     "data": {
      "text/plain": [
       "<matplotlib.axes._subplots.AxesSubplot at 0x1bd93493a90>"
      ]
     },
     "execution_count": 65,
     "metadata": {},
     "output_type": "execute_result"
    },
    {
     "data": {
      "image/png": "[encoded data removed]",
      "text/plain": [
       "<Figure size 1080x576 with 1 Axes>"
      ]
     },
     "metadata": {
      "needs_background": "light"
     },
     "output_type": "display_data"
    }
   ],
   "source": [
    "collection['meanlist'].hist(bins=100, normed=1,figsize=(15,8))"
   ]
  },
  {
   "cell_type": "markdown",
   "metadata": {},
   "source": [
    "When we draw a histogram with the collection of sample means, it looks symmetric as a normal distribution. However, when we do it with the variance, it seems that is right-skewed. So, if the population mean is normal, then the sample mean is also normal. So, why variance is different?  "
   ]
  },
  {
   "cell_type": "code",
   "execution_count": 66,
   "metadata": {},
   "outputs": [
    {
     "name": "stderr",
     "output_type": "stream",
     "text": [
      "C:\\Users\\ramir\\Anaconda3\\lib\\site-packages\\matplotlib\\axes\\_axes.py:6571: UserWarning: The 'normed' kwarg is deprecated, and has been replaced by the 'density' kwarg.\n",
      "  warnings.warn(\"The 'normed' kwarg is deprecated, and has been \"\n"
     ]
    },
    {
     "data": {
      "text/plain": [
       "array([[<matplotlib.axes._subplots.AxesSubplot object at 0x000001BD918CEA20>]],\n",
       "      dtype=object)"
      ]
     },
     "execution_count": 66,
     "metadata": {},
     "output_type": "execute_result"
    },
    {
     "data": {
      "image/png": "[encoded data removed]",
      "text/plain": [
       "<Figure size 1080x576 with 1 Axes>"
      ]
     },
     "metadata": {
      "needs_background": "light"
     },
     "output_type": "display_data"
    }
   ],
   "source": [
    "sample_size = 100\n",
    "samplemeanlist = []\n",
    "apop =  pd.DataFrame([1, 0, 1, 0, 1])\n",
    "for t in range(10000):\n",
    "    sample = apop[0].sample(sample_size, replace=True)  # small sample size\n",
    "    samplemeanlist.append(sample.mean())\n",
    "\n",
    "acollec = pd.DataFrame()\n",
    "acollec['meanlist'] = samplemeanlist\n",
    "acollec.hist(bins=100, normed=1,figsize=(15,8))"
   ]
  },
  {
   "cell_type": "markdown",
   "metadata": {},
   "source": [
    "Central limit theorem says that if sample size is larger enough, the distribution of sample mean is approximately normal. We can conclude that, even if the population is not normal, the sample is approximtely normal if the sample size is large enough. It will dependes on the quantity of samples generated from the same population and the size of the samples. If we put larger size of samples, if will give us a result similar to a normal distribution. "
   ]
  },
  {
   "cell_type": "markdown",
   "metadata": {},
   "source": [
    "#### Confidence interval with Apple"
   ]
  },
  {
   "cell_type": "markdown",
   "metadata": {},
   "source": [
    "Now, we are going to estimate te average return using confidence intervals. "
   ]
  },
  {
   "cell_type": "code",
   "execution_count": 67,
   "metadata": {},
   "outputs": [
    {
     "data": {
      "text/html": [
       "<div>\n",
       "<style scoped>\n",
       "    .dataframe tbody tr th:only-of-type {\n",
       "        vertical-align: middle;\n",
       "    }\n",
       "\n",
       "    .dataframe tbody tr th {\n",
       "        vertical-align: top;\n",
       "    }\n",
       "\n",
       "    .dataframe thead th {\n",
       "        text-align: right;\n",
       "    }\n",
       "</style>\n",
       "<table border=\"1\" class=\"dataframe\">\n",
       "  <thead>\n",
       "    <tr style=\"text-align: right;\">\n",
       "      <th></th>\n",
       "      <th>Open</th>\n",
       "      <th>High</th>\n",
       "      <th>Low</th>\n",
       "      <th>Close</th>\n",
       "      <th>Adj Close</th>\n",
       "      <th>Volume</th>\n",
       "      <th>LogReturn</th>\n",
       "      <th>Return</th>\n",
       "    </tr>\n",
       "    <tr>\n",
       "      <th>Date</th>\n",
       "      <th></th>\n",
       "      <th></th>\n",
       "      <th></th>\n",
       "      <th></th>\n",
       "      <th></th>\n",
       "      <th></th>\n",
       "      <th></th>\n",
       "      <th></th>\n",
       "    </tr>\n",
       "  </thead>\n",
       "  <tbody>\n",
       "    <tr>\n",
       "      <th>2019-04-01</th>\n",
       "      <td>191.639999</td>\n",
       "      <td>191.679993</td>\n",
       "      <td>188.380005</td>\n",
       "      <td>191.240005</td>\n",
       "      <td>188.769211</td>\n",
       "      <td>27862000</td>\n",
       "      <td>0.014432</td>\n",
       "      <td>2.779999</td>\n",
       "    </tr>\n",
       "    <tr>\n",
       "      <th>2019-04-02</th>\n",
       "      <td>191.089996</td>\n",
       "      <td>194.460007</td>\n",
       "      <td>191.050003</td>\n",
       "      <td>194.020004</td>\n",
       "      <td>191.513290</td>\n",
       "      <td>22765700</td>\n",
       "      <td>0.006832</td>\n",
       "      <td>1.330002</td>\n",
       "    </tr>\n",
       "    <tr>\n",
       "      <th>2019-04-03</th>\n",
       "      <td>193.250000</td>\n",
       "      <td>196.500000</td>\n",
       "      <td>193.149994</td>\n",
       "      <td>195.350006</td>\n",
       "      <td>192.826111</td>\n",
       "      <td>23271800</td>\n",
       "      <td>0.001739</td>\n",
       "      <td>0.339996</td>\n",
       "    </tr>\n",
       "    <tr>\n",
       "      <th>2019-04-04</th>\n",
       "      <td>194.789993</td>\n",
       "      <td>196.369995</td>\n",
       "      <td>193.139999</td>\n",
       "      <td>195.690002</td>\n",
       "      <td>193.161682</td>\n",
       "      <td>19114300</td>\n",
       "      <td>0.006672</td>\n",
       "      <td>1.309998</td>\n",
       "    </tr>\n",
       "    <tr>\n",
       "      <th>2019-04-05</th>\n",
       "      <td>196.449997</td>\n",
       "      <td>197.100006</td>\n",
       "      <td>195.929993</td>\n",
       "      <td>197.000000</td>\n",
       "      <td>194.454758</td>\n",
       "      <td>18526600</td>\n",
       "      <td>0.015614</td>\n",
       "      <td>3.100006</td>\n",
       "    </tr>\n",
       "  </tbody>\n",
       "</table>\n",
       "</div>"
      ],
      "text/plain": [
       "                  Open        High         Low       Close   Adj Close  \\\n",
       "Date                                                                     \n",
       "2019-04-01  191.639999  191.679993  188.380005  191.240005  188.769211   \n",
       "2019-04-02  191.089996  194.460007  191.050003  194.020004  191.513290   \n",
       "2019-04-03  193.250000  196.500000  193.149994  195.350006  192.826111   \n",
       "2019-04-04  194.789993  196.369995  193.139999  195.690002  193.161682   \n",
       "2019-04-05  196.449997  197.100006  195.929993  197.000000  194.454758   \n",
       "\n",
       "              Volume  LogReturn    Return  \n",
       "Date                                       \n",
       "2019-04-01  27862000   0.014432  2.779999  \n",
       "2019-04-02  22765700   0.006832  1.330002  \n",
       "2019-04-03  23271800   0.001739  0.339996  \n",
       "2019-04-04  19114300   0.006672  1.309998  \n",
       "2019-04-05  18526600   0.015614  3.100006  "
      ]
     },
     "execution_count": 67,
     "metadata": {},
     "output_type": "execute_result"
    }
   ],
   "source": [
    "appl.head()"
   ]
  },
  {
   "cell_type": "code",
   "execution_count": 68,
   "metadata": {},
   "outputs": [
    {
     "data": {
      "text/plain": [
       "<matplotlib.axes._subplots.AxesSubplot at 0x1bd93513a58>"
      ]
     },
     "execution_count": 68,
     "metadata": {},
     "output_type": "execute_result"
    },
    {
     "data": {
      "image/png": "[encoded data removed]",
      "text/plain": [
       "<Figure size 432x288 with 1 Axes>"
      ]
     },
     "metadata": {
      "needs_background": "light"
     },
     "output_type": "display_data"
    }
   ],
   "source": [
    "appl['LogReturn'].hist(bins=50)"
   ]
  },
  {
   "cell_type": "markdown",
   "metadata": {},
   "source": [
    "We can sample mean to get the real average return, which is the population mean in our example. If a sample is a good representation of the population, the population mean should be close to sample mean. Our task is to estimate population mean using interval with lower and upper bound. First, we need to standardize sample mean, because sample has different mean and a standard deviation. For a normal distribution it is not difficult to find the two quantities z(a/2) and z1-(a/2) such that in the middel the probability is 1-a. \n",
    "\n",
    "a (alpha) refers to the likelihood that the true population parameters lies outside the confidence interval. Alpha is usually expressed as a proportion. Thus, if the confidence level is 95%, then alpha would equal 1 - 0.95 or 0.05."
   ]
  },
  {
   "cell_type": "markdown",
   "metadata": {},
   "source": [
    "To build the interval for the average return, we need to find quantiles of the mean distribution. We can use the norm.ppf to get the quantiles. "
   ]
  },
  {
   "cell_type": "code",
   "execution_count": 69,
   "metadata": {},
   "outputs": [],
   "source": [
    "#values for calculating the 80% confidence interval\n",
    "#if confidence interval is 80% (0.8), then alpha (a) is 0.2\n",
    "z_left = norm.ppf(0.1) #alpha in this case is 0.8. So: z(a/2) -> (0.2/2)\n",
    "z_right = norm.ppf(0.9) #1-(a/2) -> 1-0.2/2 = 0.9\n",
    "sample_mean = appl['LogReturn'].mean()\n",
    "sample_std = appl['LogReturn'].std(ddof = 1)/(appl.shape[0])**0.5"
   ]
  },
  {
   "cell_type": "code",
   "execution_count": 70,
   "metadata": {},
   "outputs": [
    {
     "name": "stdout",
     "output_type": "stream",
     "text": [
      "Sample Mean is  0.0011307385340900366\n",
      "************************************\n",
      "80% confidence interval is \n",
      "-0.0008461468257719889 0.003107623893952062\n"
     ]
    }
   ],
   "source": [
    "interval_left = sample_mean+z_left*sample_std\n",
    "interval_right = sample_mean+z_right*sample_std\n",
    "print('Sample Mean is ',sample_mean)\n",
    "print('************************************')\n",
    "print('80% confidence interval is ')\n",
    "print(interval_left, interval_right)"
   ]
  },
  {
   "cell_type": "markdown",
   "metadata": {},
   "source": [
    "So, average return of Apple stocks falls in this interval with 80% chance. This implies that there is an 80% of chance that the average stock return will be between -0.08% and 0.3%."
   ]
  },
  {
   "cell_type": "markdown",
   "metadata": {},
   "source": [
    "#### Confidence interval with Microsoft"
   ]
  },
  {
   "cell_type": "code",
   "execution_count": 71,
   "metadata": {},
   "outputs": [],
   "source": [
    "ms['logReturn'] = np.log(ms['Close'].shift(-1)) - np.log(ms['Close'])\n",
    "\n",
    "sample_size = ms['logReturn'].shape[0]\n",
    "sample_mean = ms['logReturn'].mean()\n",
    "sample_std = ms['logReturn'].std(ddof=1) / sample_size**0.5\n",
    "z_left_ms = norm.ppf(0.05)\n",
    "z_right_ms = norm.ppf(0.95)\n",
    "interval_left_ms = sample_mean+z_left_ms*sample_std\n",
    "interval_right_ms = sample_mean+z_right_ms*sample_std"
   ]
  },
  {
   "cell_type": "code",
   "execution_count": 72,
   "metadata": {},
   "outputs": [
    {
     "name": "stdout",
     "output_type": "stream",
     "text": [
      "90% confidence interval is  (-0.13100807087613867, 0.36791543107121116)\n"
     ]
    }
   ],
   "source": [
    "print('90% confidence interval is ', (interval_left_ms*100, interval_right_ms*100))"
   ]
  },
  {
   "cell_type": "code",
   "execution_count": 73,
   "metadata": {},
   "outputs": [
    {
     "name": "stdout",
     "output_type": "stream",
     "text": [
      "90% confidence interval is  (-0.25162829510977697, 0.23853231767501532)\n"
     ]
    }
   ],
   "source": [
    "#We can do the same for Facebook\n",
    "\n",
    "fb['logReturn'] = np.log(fb['Close'].shift(-1)) - np.log(fb['Close'])\n",
    "\n",
    "sample_size = fb['logReturn'].shape[0]\n",
    "sample_mean = fb['logReturn'].mean()\n",
    "sample_std = fb['logReturn'].std(ddof=1) / sample_size**0.5\n",
    "z_left_fb = norm.ppf(0.05)\n",
    "z_right_fb = norm.ppf(0.95)\n",
    "interval_left_fb = sample_mean+z_left_fb*sample_std\n",
    "interval_right_fb = sample_mean+z_right_fb*sample_std\n",
    "\n",
    "print('90% confidence interval is ', (interval_left_fb*100, interval_right_fb*100))"
   ]
  },
  {
   "cell_type": "markdown",
   "metadata": {},
   "source": [
    "#### Hypotesis testing"
   ]
  },
  {
   "cell_type": "markdown",
   "metadata": {},
   "source": [
    "Sometimes we need to validate some hipothesis."
   ]
  },
  {
   "cell_type": "code",
   "execution_count": 74,
   "metadata": {},
   "outputs": [
    {
     "data": {
      "text/plain": [
       "[<matplotlib.lines.Line2D at 0x1bd930af160>]"
      ]
     },
     "execution_count": 74,
     "metadata": {},
     "output_type": "execute_result"
    },
    {
     "data": {
      "image/png": "[encoded data removed]",
      "text/plain": [
       "<Figure size 432x288 with 1 Axes>"
      ]
     },
     "metadata": {
      "needs_background": "light"
     },
     "output_type": "display_data"
    }
   ],
   "source": [
    "plt.title('Close price of Apple stock', size = 20)\n",
    "plt.xlabel('Time',size=10)\n",
    "plt.ylabel('US$',size=10)\n",
    "plt.plot(appl.loc[:,'Close'])"
   ]
  },
  {
   "cell_type": "markdown",
   "metadata": {},
   "source": [
    "If we plot daily return we got that there are days of positive and days of negative return "
   ]
  },
  {
   "cell_type": "code",
   "execution_count": 75,
   "metadata": {},
   "outputs": [
    {
     "data": {
      "text/plain": [
       "<matplotlib.lines.Line2D at 0x1bd935bee10>"
      ]
     },
     "execution_count": 75,
     "metadata": {},
     "output_type": "execute_result"
    },
    {
     "data": {
      "image/png": "[encoded data removed]",
      "text/plain": [
       "<Figure size 432x288 with 1 Axes>"
      ]
     },
     "metadata": {
      "needs_background": "light"
     },
     "output_type": "display_data"
    }
   ],
   "source": [
    "plt.title('Daily return of Apple stock', size = 20)\n",
    "plt.xlabel('Time',size=10)\n",
    "plt.ylabel('US$',size=10)\n",
    "plt.xlim(appl.index[0], appl.index[-1])\n",
    "plt.plot(appl.loc[:,'LogReturn'])\n",
    "plt.axhline(0, color='red')"
   ]
  },
  {
   "cell_type": "code",
   "execution_count": 76,
   "metadata": {},
   "outputs": [
    {
     "data": {
      "text/plain": [
       "<matplotlib.axes._subplots.AxesSubplot at 0x1bd93608710>"
      ]
     },
     "execution_count": 76,
     "metadata": {},
     "output_type": "execute_result"
    },
    {
     "data": {
      "image/png": "[encoded data removed]",
      "text/plain": [
       "<Figure size 432x288 with 1 Axes>"
      ]
     },
     "metadata": {
      "needs_background": "light"
     },
     "output_type": "display_data"
    }
   ],
   "source": [
    "plt.title('Histogram of daily return of Apple Stock', size = 15)\n",
    "appl.loc[:, 'LogReturn'].dropna().hist(bins=100)"
   ]
  },
  {
   "cell_type": "markdown",
   "metadata": {},
   "source": [
    "In the histogram, the daily return is approximately 0. "
   ]
  },
  {
   "cell_type": "markdown",
   "metadata": {},
   "source": [
    "To test the validaty of an hypothesis, we have a statistics tool. The null hypothesis is assertion we are against. Alternative hypothesis is a conclusion we accept whenever we reject the null. So, in our example, the null hypothesis is that the average daily return is not equal to 0 and the alternative hypothesis is that the average daily return is not equal to 0.So, to reject or not the hypothesis we use zhat which must be different from 0."
   ]
  },
  {
   "cell_type": "code",
   "execution_count": 77,
   "metadata": {},
   "outputs": [
    {
     "name": "stdout",
     "output_type": "stream",
     "text": [
      "0.7330216349448969\n"
     ]
    }
   ],
   "source": [
    "xbar = appl['LogReturn'].mean()\n",
    "s = appl['LogReturn'].std(ddof=1)\n",
    "n = appl['LogReturn'].shape[0]\n",
    "zhat = (xbar-0)/(s/(n**0.5))\n",
    "print (zhat)"
   ]
  },
  {
   "cell_type": "markdown",
   "metadata": {},
   "source": [
    "To prove this we use the two tail test."
   ]
  },
  {
   "cell_type": "markdown",
   "metadata": {},
   "source": [
    "### Linear regression models for financial analysis"
   ]
  },
  {
   "cell_type": "markdown",
   "metadata": {},
   "source": [
    "Data in financial market are different than those used on other fields. They are usually non-stationary and have a high level of noises. Model evaluation is more important than model building. A statistical usefull model is not necesarily succesful in terms of profits. The most used prediction model is multiple linear regression. "
   ]
  },
  {
   "cell_type": "markdown",
   "metadata": {},
   "source": [
    "#### Asociation of random variables"
   ]
  },
  {
   "cell_type": "markdown",
   "metadata": {},
   "source": [
    "Until now we have talked about single variables. But in real life, we may be intrested in association of two or multiple random variables. For example: is there any association between the stock price change of tomorrow and the number of full days in the last five days? In this part of the course we will explain how to measure strengths etween two random variables. \n",
    "\n",
    "In statistics we use covariance to measure the association between two variables. The covariance is a value that indicates the grade of mutual variation of two random variables regarding it's mean. However, we need to factorize it out in order to get a meassure only for the strenght of association, that is the coefficient of correlation. In the formula of the coeficient, the covariance is divided by the standard deviation of both variables. The correlation will only take values between -1 and 1. When correlation is neer one there is a good correlation (in the chart, we can see all the point together doing a line). In that cases we say that variable X and variable Y have a strong positive correlation: as X increases, Y is more likely to increase. When correlation is near -1, if X increases, Y is more likely to decrease. \n",
    "\n",
    "To see the correlation between variables, we can use scatter matrix, that is a matrix of scatter plots for each pair of random variables. The histograms in diagonal positions are those of variables. The scatter plot can only find association between two variables, it cannot find the association between one variable and othe multiple variables. To achieve that, we need multiple linear regression. "
   ]
  },
  {
   "cell_type": "markdown",
   "metadata": {},
   "source": [
    "#### Simple linear regression model "
   ]
  },
  {
   "cell_type": "markdown",
   "metadata": {},
   "source": [
    "In real life, we also want to estimate one variable and othe rmultiple variables, which are the \"predictors\". Linear regression model is used to estimate response variable which is also called prediction. The simple linear regression model has only one predictor. Idealy, we want to get a line where all sum of squared errors (SSE) are very small, what is the same to say that all sample pairs are close to the predict line you found.  "
   ]
  },
  {
   "cell_type": "markdown",
   "metadata": {},
   "source": [
    "#### Multiple linear regression"
   ]
  },
  {
   "cell_type": "markdown",
   "metadata": {},
   "source": [
    "We are going to apply multiple linear regression to generate a signal for the growth of SPY (the exchange-trade fund that tracks S&P 500). We are going to use multiple indices of the global market to predict the price change of SPY. The reason we choose SPY it is very suitable for trading frequently. Each unit of SPY is always approximately one over 10 of S&P 500 index level. To earn SPY it requires very low fee ratios. Volatiliy of SPY is very high. \n",
    "\n",
    "We are going to predict data price change of SPY when US market opens in the morning. We know that different indeces in different markets are highly correlated. In this model, we are going to use AORD from Australia, Nikkei from Japan, HSI from Hong Kong, DAX from Germany, CAC40 from France, S&P 500, Dow Jones (DJI) and Nasdaq from US to predict the daily price change from SPY. "
   ]
  },
  {
   "cell_type": "code",
   "execution_count": 78,
   "metadata": {},
   "outputs": [],
   "source": [
    "start = datetime.datetime(2010, 1, 1) #starting date\n",
    "end = datetime.datetime(2020, 4, 2) #ending date\n",
    "\n",
    "aord = web.DataReader(\"^AORD\", 'yahoo', start, end) #(stock, platform, start, end)\n",
    "nikkei = web.DataReader(\"^N225\", 'yahoo', start, end)\n",
    "hsi = web.DataReader(\"^HSI\", 'yahoo', start, end)\n",
    "hsi = web.DataReader(\"^HSI\", 'yahoo', start, end)\n",
    "daxi = web.DataReader(\"^GDAXI\", 'yahoo', start, end)\n",
    "cac40 = web.DataReader(\"^FCHI\", 'yahoo', start, end)\n",
    "sp500 = web.DataReader(\"^GSPC\", 'yahoo', start, end)\n",
    "dji = web.DataReader(\"^DJI\", 'yahoo', start, end)\n",
    "nasdaq = web.DataReader(\"^IXIC\", 'yahoo', start, end)\n",
    "spy = web.DataReader(\"SPY\", 'yahoo', start, end)"
   ]
  },
  {
   "cell_type": "code",
   "execution_count": 79,
   "metadata": {},
   "outputs": [
    {
     "data": {
      "text/html": [
       "<div>\n",
       "<style scoped>\n",
       "    .dataframe tbody tr th:only-of-type {\n",
       "        vertical-align: middle;\n",
       "    }\n",
       "\n",
       "    .dataframe tbody tr th {\n",
       "        vertical-align: top;\n",
       "    }\n",
       "\n",
       "    .dataframe thead th {\n",
       "        text-align: right;\n",
       "    }\n",
       "</style>\n",
       "<table border=\"1\" class=\"dataframe\">\n",
       "  <thead>\n",
       "    <tr style=\"text-align: right;\">\n",
       "      <th></th>\n",
       "      <th>High</th>\n",
       "      <th>Low</th>\n",
       "      <th>Open</th>\n",
       "      <th>Close</th>\n",
       "      <th>Volume</th>\n",
       "      <th>Adj Close</th>\n",
       "    </tr>\n",
       "    <tr>\n",
       "      <th>Date</th>\n",
       "      <th></th>\n",
       "      <th></th>\n",
       "      <th></th>\n",
       "      <th></th>\n",
       "      <th></th>\n",
       "      <th></th>\n",
       "    </tr>\n",
       "  </thead>\n",
       "  <tbody>\n",
       "    <tr>\n",
       "      <th>2010-01-04</th>\n",
       "      <td>113.389999</td>\n",
       "      <td>111.510002</td>\n",
       "      <td>112.370003</td>\n",
       "      <td>113.330002</td>\n",
       "      <td>118944600.0</td>\n",
       "      <td>92.246048</td>\n",
       "    </tr>\n",
       "    <tr>\n",
       "      <th>2010-01-05</th>\n",
       "      <td>113.680000</td>\n",
       "      <td>112.849998</td>\n",
       "      <td>113.260002</td>\n",
       "      <td>113.629997</td>\n",
       "      <td>111579900.0</td>\n",
       "      <td>92.490204</td>\n",
       "    </tr>\n",
       "    <tr>\n",
       "      <th>2010-01-06</th>\n",
       "      <td>113.989998</td>\n",
       "      <td>113.430000</td>\n",
       "      <td>113.519997</td>\n",
       "      <td>113.709999</td>\n",
       "      <td>116074400.0</td>\n",
       "      <td>92.555328</td>\n",
       "    </tr>\n",
       "    <tr>\n",
       "      <th>2010-01-07</th>\n",
       "      <td>114.330002</td>\n",
       "      <td>113.180000</td>\n",
       "      <td>113.500000</td>\n",
       "      <td>114.190002</td>\n",
       "      <td>131091100.0</td>\n",
       "      <td>92.946060</td>\n",
       "    </tr>\n",
       "    <tr>\n",
       "      <th>2010-01-08</th>\n",
       "      <td>114.620003</td>\n",
       "      <td>113.660004</td>\n",
       "      <td>113.889999</td>\n",
       "      <td>114.570000</td>\n",
       "      <td>126402800.0</td>\n",
       "      <td>93.255348</td>\n",
       "    </tr>\n",
       "  </tbody>\n",
       "</table>\n",
       "</div>"
      ],
      "text/plain": [
       "                  High         Low        Open       Close       Volume  \\\n",
       "Date                                                                      \n",
       "2010-01-04  113.389999  111.510002  112.370003  113.330002  118944600.0   \n",
       "2010-01-05  113.680000  112.849998  113.260002  113.629997  111579900.0   \n",
       "2010-01-06  113.989998  113.430000  113.519997  113.709999  116074400.0   \n",
       "2010-01-07  114.330002  113.180000  113.500000  114.190002  131091100.0   \n",
       "2010-01-08  114.620003  113.660004  113.889999  114.570000  126402800.0   \n",
       "\n",
       "            Adj Close  \n",
       "Date                   \n",
       "2010-01-04  92.246048  \n",
       "2010-01-05  92.490204  \n",
       "2010-01-06  92.555328  \n",
       "2010-01-07  92.946060  \n",
       "2010-01-08  93.255348  "
      ]
     },
     "execution_count": 79,
     "metadata": {},
     "output_type": "execute_result"
    }
   ],
   "source": [
    "spy.head()"
   ]
  },
  {
   "cell_type": "markdown",
   "metadata": {},
   "source": [
    "From this data, we will use only open price to simplify the discussion. We will have three predictors, the first one is a one-day lag variables from US market (OPEN - open price of the last day) for the four indexes. The second group is a one-day lag variables from European markets (OPEN - open price of the last day) for the two indexes. Last group are the asian markets (close price - open price) of the three indexes. "
   ]
  },
  {
   "cell_type": "markdown",
   "metadata": {},
   "source": [
    "First we generate an empty Data Frame to be the same as the index SPY. Then, we define the contents and predictors we defined in last slide. "
   ]
  },
  {
   "cell_type": "code",
   "execution_count": 80,
   "metadata": {},
   "outputs": [],
   "source": [
    "indicepanel=pd.DataFrame(index=spy.index)\n",
    "\n",
    "indicepanel['spy']=spy['Open'].shift(-1)-spy['Open']\n",
    "indicepanel['spy_lag1']=indicepanel['spy'].shift(1)\n",
    "indicepanel['sp500']=sp500[\"Open\"]-sp500['Open'].shift(1)\n",
    "indicepanel['nasdaq']=nasdaq['Open']-nasdaq['Open'].shift(1)\n",
    "indicepanel['dji']=dji['Open']-dji['Open'].shift(1)\n",
    "\n",
    "indicepanel['cac40']=cac40['Open']-cac40['Open'].shift(1)\n",
    "indicepanel['daxi']=daxi['Open']-daxi['Open'].shift(1)\n",
    "\n",
    "indicepanel['aord']=aord['Close']-aord['Open']\n",
    "indicepanel['hsi']=hsi['Close']-hsi['Open']\n",
    "indicepanel['nikkei']=nikkei['Close']-nikkei['Open']\n",
    "indicepanel['Price']=spy['Open']"
   ]
  },
  {
   "cell_type": "code",
   "execution_count": 81,
   "metadata": {},
   "outputs": [
    {
     "data": {
      "text/html": [
       "<div>\n",
       "<style scoped>\n",
       "    .dataframe tbody tr th:only-of-type {\n",
       "        vertical-align: middle;\n",
       "    }\n",
       "\n",
       "    .dataframe tbody tr th {\n",
       "        vertical-align: top;\n",
       "    }\n",
       "\n",
       "    .dataframe thead th {\n",
       "        text-align: right;\n",
       "    }\n",
       "</style>\n",
       "<table border=\"1\" class=\"dataframe\">\n",
       "  <thead>\n",
       "    <tr style=\"text-align: right;\">\n",
       "      <th></th>\n",
       "      <th>spy</th>\n",
       "      <th>spy_lag1</th>\n",
       "      <th>sp500</th>\n",
       "      <th>nasdaq</th>\n",
       "      <th>dji</th>\n",
       "      <th>cac40</th>\n",
       "      <th>daxi</th>\n",
       "      <th>aord</th>\n",
       "      <th>hsi</th>\n",
       "      <th>nikkei</th>\n",
       "      <th>Price</th>\n",
       "    </tr>\n",
       "    <tr>\n",
       "      <th>Date</th>\n",
       "      <th></th>\n",
       "      <th></th>\n",
       "      <th></th>\n",
       "      <th></th>\n",
       "      <th></th>\n",
       "      <th></th>\n",
       "      <th></th>\n",
       "      <th></th>\n",
       "      <th></th>\n",
       "      <th></th>\n",
       "      <th></th>\n",
       "    </tr>\n",
       "  </thead>\n",
       "  <tbody>\n",
       "    <tr>\n",
       "      <th>2010-01-04</th>\n",
       "      <td>0.889999</td>\n",
       "      <td>NaN</td>\n",
       "      <td>NaN</td>\n",
       "      <td>NaN</td>\n",
       "      <td>NaN</td>\n",
       "      <td>NaN</td>\n",
       "      <td>NaN</td>\n",
       "      <td>39.700195</td>\n",
       "      <td>-36.759766</td>\n",
       "      <td>45.450195</td>\n",
       "      <td>112.370003</td>\n",
       "    </tr>\n",
       "    <tr>\n",
       "      <th>2010-01-05</th>\n",
       "      <td>0.259995</td>\n",
       "      <td>0.889999</td>\n",
       "      <td>16.099976</td>\n",
       "      <td>12.860107</td>\n",
       "      <td>153.869141</td>\n",
       "      <td>60.219971</td>\n",
       "      <td>68.419922</td>\n",
       "      <td>3.099609</td>\n",
       "      <td>187.429688</td>\n",
       "      <td>-37.610352</td>\n",
       "      <td>113.260002</td>\n",
       "    </tr>\n",
       "    <tr>\n",
       "      <th>2010-01-06</th>\n",
       "      <td>-0.019997</td>\n",
       "      <td>0.259995</td>\n",
       "      <td>3.049927</td>\n",
       "      <td>0.439941</td>\n",
       "      <td>-19.839844</td>\n",
       "      <td>2.020020</td>\n",
       "      <td>-11.549805</td>\n",
       "      <td>-17.700195</td>\n",
       "      <td>59.208984</td>\n",
       "      <td>21.900391</td>\n",
       "      <td>113.519997</td>\n",
       "    </tr>\n",
       "    <tr>\n",
       "      <th>2010-01-07</th>\n",
       "      <td>0.389999</td>\n",
       "      <td>-0.019997</td>\n",
       "      <td>0.560059</td>\n",
       "      <td>-9.619873</td>\n",
       "      <td>6.390625</td>\n",
       "      <td>-8.489990</td>\n",
       "      <td>-15.590332</td>\n",
       "      <td>10.800293</td>\n",
       "      <td>-278.580078</td>\n",
       "      <td>-61.089844</td>\n",
       "      <td>113.500000</td>\n",
       "    </tr>\n",
       "    <tr>\n",
       "      <th>2010-01-08</th>\n",
       "      <td>1.190002</td>\n",
       "      <td>0.389999</td>\n",
       "      <td>4.250000</td>\n",
       "      <td>-5.850098</td>\n",
       "      <td>35.290039</td>\n",
       "      <td>36.679932</td>\n",
       "      <td>11.820312</td>\n",
       "      <td>NaN</td>\n",
       "      <td>14.000000</td>\n",
       "      <td>55.020508</td>\n",
       "      <td>113.889999</td>\n",
       "    </tr>\n",
       "  </tbody>\n",
       "</table>\n",
       "</div>"
      ],
      "text/plain": [
       "                 spy  spy_lag1      sp500     nasdaq         dji      cac40  \\\n",
       "Date                                                                          \n",
       "2010-01-04  0.889999       NaN        NaN        NaN         NaN        NaN   \n",
       "2010-01-05  0.259995  0.889999  16.099976  12.860107  153.869141  60.219971   \n",
       "2010-01-06 -0.019997  0.259995   3.049927   0.439941  -19.839844   2.020020   \n",
       "2010-01-07  0.389999 -0.019997   0.560059  -9.619873    6.390625  -8.489990   \n",
       "2010-01-08  1.190002  0.389999   4.250000  -5.850098   35.290039  36.679932   \n",
       "\n",
       "                 daxi       aord         hsi     nikkei       Price  \n",
       "Date                                                                 \n",
       "2010-01-04        NaN  39.700195  -36.759766  45.450195  112.370003  \n",
       "2010-01-05  68.419922   3.099609  187.429688 -37.610352  113.260002  \n",
       "2010-01-06 -11.549805 -17.700195   59.208984  21.900391  113.519997  \n",
       "2010-01-07 -15.590332  10.800293 -278.580078 -61.089844  113.500000  \n",
       "2010-01-08  11.820312        NaN   14.000000  55.020508  113.889999  "
      ]
     },
     "execution_count": 81,
     "metadata": {},
     "output_type": "execute_result"
    }
   ],
   "source": [
    "indicepanel.head()"
   ]
  },
  {
   "cell_type": "code",
   "execution_count": 82,
   "metadata": {},
   "outputs": [],
   "source": [
    "#We will fill the NaN values\n",
    "indicepanel = indicepanel.fillna(method='ffill')\n",
    "indicepanel = indicepanel.dropna()"
   ]
  },
  {
   "cell_type": "code",
   "execution_count": 83,
   "metadata": {},
   "outputs": [
    {
     "data": {
      "text/plain": [
       "spy         0\n",
       "spy_lag1    0\n",
       "sp500       0\n",
       "nasdaq      0\n",
       "dji         0\n",
       "cac40       0\n",
       "daxi        0\n",
       "aord        0\n",
       "hsi         0\n",
       "nikkei      0\n",
       "Price       0\n",
       "dtype: int64"
      ]
     },
     "execution_count": 83,
     "metadata": {},
     "output_type": "execute_result"
    }
   ],
   "source": [
    "indicepanel.isnull().sum()"
   ]
  },
  {
   "cell_type": "code",
   "execution_count": 84,
   "metadata": {},
   "outputs": [
    {
     "name": "stdout",
     "output_type": "stream",
     "text": [
      "(1000, 11) (1000, 11)\n"
     ]
    }
   ],
   "source": [
    "#We split the data in train to build the model and test to test the model.\n",
    "Train = indicepanel.iloc[-2000:-1000, :]\n",
    "Test = indicepanel.iloc[-1000:, :]\n",
    "print(Train.shape, Test.shape)"
   ]
  },
  {
   "cell_type": "markdown",
   "metadata": {},
   "source": [
    "We use equal size of samples for train and test because the stock data is very noisy. "
   ]
  },
  {
   "cell_type": "markdown",
   "metadata": {},
   "source": [
    "Now, we use a scatter matrix to view the correlations of the variables."
   ]
  },
  {
   "cell_type": "code",
   "execution_count": 85,
   "metadata": {},
   "outputs": [
    {
     "name": "stderr",
     "output_type": "stream",
     "text": [
      "C:\\Users\\ramir\\Anaconda3\\lib\\site-packages\\ipykernel_launcher.py:1: FutureWarning: 'pandas.tools.plotting.scatter_matrix' is deprecated, import 'pandas.plotting.scatter_matrix' instead.\n",
      "  \"\"\"Entry point for launching an IPython kernel.\n"
     ]
    },
    {
     "data": {
      "image/png": "[encoded data removed]",
      "text/plain": [
       "<Figure size 720x720 with 121 Axes>"
      ]
     },
     "metadata": {
      "needs_background": "light"
     },
     "output_type": "display_data"
    }
   ],
   "source": [
    "sm = scatter_matrix(Train, figsize = (10,10))"
   ]
  },
  {
   "cell_type": "markdown",
   "metadata": {},
   "source": [
    "What we can see here is that there is no explicit pattern, which is a evidence of high noisy properties of stock markets. We are going to see the correlation of the markets."
   ]
  },
  {
   "cell_type": "code",
   "execution_count": 86,
   "metadata": {},
   "outputs": [
    {
     "data": {
      "text/plain": [
       "spy         1.000000\n",
       "spy_lag1   -0.083215\n",
       "sp500      -0.025122\n",
       "nasdaq     -0.087152\n",
       "dji        -0.038094\n",
       "cac40      -0.062988\n",
       "daxi       -0.053925\n",
       "aord        0.168330\n",
       "hsi        -0.048244\n",
       "nikkei     -0.053575\n",
       "Name: spy, dtype: float64"
      ]
     },
     "execution_count": 86,
     "metadata": {},
     "output_type": "execute_result"
    }
   ],
   "source": [
    "Train.iloc[:,:-1].corr()['spy']"
   ]
  },
  {
   "cell_type": "markdown",
   "metadata": {},
   "source": [
    "European and asian markets have more correlation with SPY than the US ones. "
   ]
  },
  {
   "cell_type": "code",
   "execution_count": 88,
   "metadata": {},
   "outputs": [
    {
     "data": {
      "text/html": [
       "<table class=\"simpletable\">\n",
       "<caption>OLS Regression Results</caption>\n",
       "<tr>\n",
       "  <th>Dep. Variable:</th>           <td>spy</td>       <th>  R-squared:         </th> <td>   0.079</td>\n",
       "</tr>\n",
       "<tr>\n",
       "  <th>Model:</th>                   <td>OLS</td>       <th>  Adj. R-squared:    </th> <td>   0.071</td>\n",
       "</tr>\n",
       "<tr>\n",
       "  <th>Method:</th>             <td>Least Squares</td>  <th>  F-statistic:       </th> <td>   9.475</td>\n",
       "</tr>\n",
       "<tr>\n",
       "  <th>Date:</th>             <td>Fri, 03 Apr 2020</td> <th>  Prob (F-statistic):</th> <td>6.21e-14</td>\n",
       "</tr>\n",
       "<tr>\n",
       "  <th>Time:</th>                 <td>19:36:33</td>     <th>  Log-Likelihood:    </th> <td> -1820.6</td>\n",
       "</tr>\n",
       "<tr>\n",
       "  <th>No. Observations:</th>      <td>  1000</td>      <th>  AIC:               </th> <td>   3661.</td>\n",
       "</tr>\n",
       "<tr>\n",
       "  <th>Df Residuals:</th>          <td>   990</td>      <th>  BIC:               </th> <td>   3710.</td>\n",
       "</tr>\n",
       "<tr>\n",
       "  <th>Df Model:</th>              <td>     9</td>      <th>                     </th>     <td> </td>   \n",
       "</tr>\n",
       "<tr>\n",
       "  <th>Covariance Type:</th>      <td>nonrobust</td>    <th>                     </th>     <td> </td>   \n",
       "</tr>\n",
       "</table>\n",
       "<table class=\"simpletable\">\n",
       "<tr>\n",
       "      <td></td>         <th>coef</th>     <th>std err</th>      <th>t</th>      <th>P>|t|</th>  <th>[0.025</th>    <th>0.975]</th>  \n",
       "</tr>\n",
       "<tr>\n",
       "  <th>Intercept</th> <td>    0.0561</td> <td>    0.048</td> <td>    1.171</td> <td> 0.242</td> <td>   -0.038</td> <td>    0.150</td>\n",
       "</tr>\n",
       "<tr>\n",
       "  <th>spy_lag1</th>  <td>   -0.0199</td> <td>    0.101</td> <td>   -0.197</td> <td> 0.844</td> <td>   -0.219</td> <td>    0.179</td>\n",
       "</tr>\n",
       "<tr>\n",
       "  <th>sp500</th>     <td>    0.0564</td> <td>    0.015</td> <td>    3.780</td> <td> 0.000</td> <td>    0.027</td> <td>    0.086</td>\n",
       "</tr>\n",
       "<tr>\n",
       "  <th>nasdaq</th>    <td>   -0.0076</td> <td>    0.003</td> <td>   -2.223</td> <td> 0.026</td> <td>   -0.014</td> <td>   -0.001</td>\n",
       "</tr>\n",
       "<tr>\n",
       "  <th>dji</th>       <td>   -0.0054</td> <td>    0.002</td> <td>   -3.432</td> <td> 0.001</td> <td>   -0.008</td> <td>   -0.002</td>\n",
       "</tr>\n",
       "<tr>\n",
       "  <th>cac40</th>     <td>   -0.0034</td> <td>    0.002</td> <td>   -1.581</td> <td> 0.114</td> <td>   -0.008</td> <td>    0.001</td>\n",
       "</tr>\n",
       "<tr>\n",
       "  <th>aord</th>      <td>    0.0100</td> <td>    0.001</td> <td>    7.881</td> <td> 0.000</td> <td>    0.008</td> <td>    0.013</td>\n",
       "</tr>\n",
       "<tr>\n",
       "  <th>daxi</th>      <td>    0.0002</td> <td>    0.001</td> <td>    0.187</td> <td> 0.852</td> <td>   -0.002</td> <td>    0.002</td>\n",
       "</tr>\n",
       "<tr>\n",
       "  <th>nikkei</th>    <td>   -0.0003</td> <td>    0.000</td> <td>   -1.057</td> <td> 0.291</td> <td>   -0.001</td> <td>    0.000</td>\n",
       "</tr>\n",
       "<tr>\n",
       "  <th>hsi</th>       <td>   -0.0003</td> <td>    0.000</td> <td>   -0.897</td> <td> 0.370</td> <td>   -0.001</td> <td>    0.000</td>\n",
       "</tr>\n",
       "</table>\n",
       "<table class=\"simpletable\">\n",
       "<tr>\n",
       "  <th>Omnibus:</th>       <td>330.450</td> <th>  Durbin-Watson:     </th> <td>   2.008</td>\n",
       "</tr>\n",
       "<tr>\n",
       "  <th>Prob(Omnibus):</th> <td> 0.000</td>  <th>  Jarque-Bera (JB):  </th> <td>5636.734</td>\n",
       "</tr>\n",
       "<tr>\n",
       "  <th>Skew:</th>          <td>-1.050</td>  <th>  Prob(JB):          </th> <td>    0.00</td>\n",
       "</tr>\n",
       "<tr>\n",
       "  <th>Kurtosis:</th>      <td>14.440</td>  <th>  Cond. No.          </th> <td>    434.</td>\n",
       "</tr>\n",
       "</table><br/><br/>Warnings:<br/>[1] Standard Errors assume that the covariance matrix of the errors is correctly specified."
      ],
      "text/plain": [
       "<class 'statsmodels.iolib.summary.Summary'>\n",
       "\"\"\"\n",
       "                            OLS Regression Results                            \n",
       "==============================================================================\n",
       "Dep. Variable:                    spy   R-squared:                       0.079\n",
       "Model:                            OLS   Adj. R-squared:                  0.071\n",
       "Method:                 Least Squares   F-statistic:                     9.475\n",
       "Date:                Fri, 03 Apr 2020   Prob (F-statistic):           6.21e-14\n",
       "Time:                        19:36:33   Log-Likelihood:                -1820.6\n",
       "No. Observations:                1000   AIC:                             3661.\n",
       "Df Residuals:                     990   BIC:                             3710.\n",
       "Df Model:                           9                                         \n",
       "Covariance Type:            nonrobust                                         \n",
       "==============================================================================\n",
       "                 coef    std err          t      P>|t|      [0.025      0.975]\n",
       "------------------------------------------------------------------------------\n",
       "Intercept      0.0561      0.048      1.171      0.242      -0.038       0.150\n",
       "spy_lag1      -0.0199      0.101     -0.197      0.844      -0.219       0.179\n",
       "sp500          0.0564      0.015      3.780      0.000       0.027       0.086\n",
       "nasdaq        -0.0076      0.003     -2.223      0.026      -0.014      -0.001\n",
       "dji           -0.0054      0.002     -3.432      0.001      -0.008      -0.002\n",
       "cac40         -0.0034      0.002     -1.581      0.114      -0.008       0.001\n",
       "aord           0.0100      0.001      7.881      0.000       0.008       0.013\n",
       "daxi           0.0002      0.001      0.187      0.852      -0.002       0.002\n",
       "nikkei        -0.0003      0.000     -1.057      0.291      -0.001       0.000\n",
       "hsi           -0.0003      0.000     -0.897      0.370      -0.001       0.000\n",
       "==============================================================================\n",
       "Omnibus:                      330.450   Durbin-Watson:                   2.008\n",
       "Prob(Omnibus):                  0.000   Jarque-Bera (JB):             5636.734\n",
       "Skew:                          -1.050   Prob(JB):                         0.00\n",
       "Kurtosis:                      14.440   Cond. No.                         434.\n",
       "==============================================================================\n",
       "\n",
       "Warnings:\n",
       "[1] Standard Errors assume that the covariance matrix of the errors is correctly specified.\n",
       "\"\"\""
      ]
     },
     "execution_count": 88,
     "metadata": {},
     "output_type": "execute_result"
    }
   ],
   "source": [
    "formula = 'spy~spy_lag1+sp500+nasdaq+dji+cac40+aord+daxi+nikkei+hsi'\n",
    "lm = smf.ols(formula=formula, data=Train).fit()\n",
    "lm.summary()"
   ]
  },
  {
   "cell_type": "markdown",
   "metadata": {},
   "source": [
    "From the summary there a couple of things that we must pay attention. The first is the p value for F-statistics. F-test is for overall significance of the multiple linear equation model. P value (6.21e-14) < 0.05 means that our model includes usefull predictors. The summary also includes the p value of individual predictors (P>|t|). We found out that most of the predictors are not significat except AORD. "
   ]
  },
  {
   "cell_type": "code",
   "execution_count": 87,
   "metadata": {},
   "outputs": [
    {
     "data": {
      "text/html": [
       "<div>\n",
       "<style scoped>\n",
       "    .dataframe tbody tr th:only-of-type {\n",
       "        vertical-align: middle;\n",
       "    }\n",
       "\n",
       "    .dataframe tbody tr th {\n",
       "        vertical-align: top;\n",
       "    }\n",
       "\n",
       "    .dataframe thead th {\n",
       "        text-align: right;\n",
       "    }\n",
       "</style>\n",
       "<table border=\"1\" class=\"dataframe\">\n",
       "  <thead>\n",
       "    <tr style=\"text-align: right;\">\n",
       "      <th></th>\n",
       "      <th>spy</th>\n",
       "      <th>spy_lag1</th>\n",
       "      <th>sp500</th>\n",
       "      <th>nasdaq</th>\n",
       "      <th>dji</th>\n",
       "      <th>cac40</th>\n",
       "      <th>daxi</th>\n",
       "      <th>aord</th>\n",
       "      <th>hsi</th>\n",
       "      <th>nikkei</th>\n",
       "    </tr>\n",
       "  </thead>\n",
       "  <tbody>\n",
       "    <tr>\n",
       "      <th>spy</th>\n",
       "      <td>1.000000</td>\n",
       "      <td>-0.083215</td>\n",
       "      <td>-0.025122</td>\n",
       "      <td>-0.087152</td>\n",
       "      <td>-0.038094</td>\n",
       "      <td>-0.062988</td>\n",
       "      <td>-0.053925</td>\n",
       "      <td>0.168330</td>\n",
       "      <td>-0.048244</td>\n",
       "      <td>-0.053575</td>\n",
       "    </tr>\n",
       "    <tr>\n",
       "      <th>spy_lag1</th>\n",
       "      <td>-0.083215</td>\n",
       "      <td>1.000000</td>\n",
       "      <td>0.685139</td>\n",
       "      <td>0.943315</td>\n",
       "      <td>0.589471</td>\n",
       "      <td>0.527322</td>\n",
       "      <td>0.503967</td>\n",
       "      <td>0.396166</td>\n",
       "      <td>0.198971</td>\n",
       "      <td>0.256830</td>\n",
       "    </tr>\n",
       "    <tr>\n",
       "      <th>sp500</th>\n",
       "      <td>-0.025122</td>\n",
       "      <td>0.685139</td>\n",
       "      <td>1.000000</td>\n",
       "      <td>0.627344</td>\n",
       "      <td>0.962170</td>\n",
       "      <td>0.629485</td>\n",
       "      <td>0.614316</td>\n",
       "      <td>0.325860</td>\n",
       "      <td>-0.006521</td>\n",
       "      <td>0.152702</td>\n",
       "    </tr>\n",
       "    <tr>\n",
       "      <th>nasdaq</th>\n",
       "      <td>-0.087152</td>\n",
       "      <td>0.943315</td>\n",
       "      <td>0.627344</td>\n",
       "      <td>1.000000</td>\n",
       "      <td>0.510915</td>\n",
       "      <td>0.496122</td>\n",
       "      <td>0.486651</td>\n",
       "      <td>0.391910</td>\n",
       "      <td>0.204243</td>\n",
       "      <td>0.217907</td>\n",
       "    </tr>\n",
       "    <tr>\n",
       "      <th>dji</th>\n",
       "      <td>-0.038094</td>\n",
       "      <td>0.589471</td>\n",
       "      <td>0.962170</td>\n",
       "      <td>0.510915</td>\n",
       "      <td>1.000000</td>\n",
       "      <td>0.612686</td>\n",
       "      <td>0.604176</td>\n",
       "      <td>0.298127</td>\n",
       "      <td>-0.040197</td>\n",
       "      <td>0.131019</td>\n",
       "    </tr>\n",
       "    <tr>\n",
       "      <th>cac40</th>\n",
       "      <td>-0.062988</td>\n",
       "      <td>0.527322</td>\n",
       "      <td>0.629485</td>\n",
       "      <td>0.496122</td>\n",
       "      <td>0.612686</td>\n",
       "      <td>1.000000</td>\n",
       "      <td>0.876750</td>\n",
       "      <td>0.399828</td>\n",
       "      <td>0.207724</td>\n",
       "      <td>0.342263</td>\n",
       "    </tr>\n",
       "    <tr>\n",
       "      <th>daxi</th>\n",
       "      <td>-0.053925</td>\n",
       "      <td>0.503967</td>\n",
       "      <td>0.614316</td>\n",
       "      <td>0.486651</td>\n",
       "      <td>0.604176</td>\n",
       "      <td>0.876750</td>\n",
       "      <td>1.000000</td>\n",
       "      <td>0.381301</td>\n",
       "      <td>0.191219</td>\n",
       "      <td>0.321694</td>\n",
       "    </tr>\n",
       "    <tr>\n",
       "      <th>aord</th>\n",
       "      <td>0.168330</td>\n",
       "      <td>0.396166</td>\n",
       "      <td>0.325860</td>\n",
       "      <td>0.391910</td>\n",
       "      <td>0.298127</td>\n",
       "      <td>0.399828</td>\n",
       "      <td>0.381301</td>\n",
       "      <td>1.000000</td>\n",
       "      <td>0.167111</td>\n",
       "      <td>0.194483</td>\n",
       "    </tr>\n",
       "    <tr>\n",
       "      <th>hsi</th>\n",
       "      <td>-0.048244</td>\n",
       "      <td>0.198971</td>\n",
       "      <td>-0.006521</td>\n",
       "      <td>0.204243</td>\n",
       "      <td>-0.040197</td>\n",
       "      <td>0.207724</td>\n",
       "      <td>0.191219</td>\n",
       "      <td>0.167111</td>\n",
       "      <td>1.000000</td>\n",
       "      <td>0.270212</td>\n",
       "    </tr>\n",
       "    <tr>\n",
       "      <th>nikkei</th>\n",
       "      <td>-0.053575</td>\n",
       "      <td>0.256830</td>\n",
       "      <td>0.152702</td>\n",
       "      <td>0.217907</td>\n",
       "      <td>0.131019</td>\n",
       "      <td>0.342263</td>\n",
       "      <td>0.321694</td>\n",
       "      <td>0.194483</td>\n",
       "      <td>0.270212</td>\n",
       "      <td>1.000000</td>\n",
       "    </tr>\n",
       "  </tbody>\n",
       "</table>\n",
       "</div>"
      ],
      "text/plain": [
       "               spy  spy_lag1     sp500    nasdaq       dji     cac40  \\\n",
       "spy       1.000000 -0.083215 -0.025122 -0.087152 -0.038094 -0.062988   \n",
       "spy_lag1 -0.083215  1.000000  0.685139  0.943315  0.589471  0.527322   \n",
       "sp500    -0.025122  0.685139  1.000000  0.627344  0.962170  0.629485   \n",
       "nasdaq   -0.087152  0.943315  0.627344  1.000000  0.510915  0.496122   \n",
       "dji      -0.038094  0.589471  0.962170  0.510915  1.000000  0.612686   \n",
       "cac40    -0.062988  0.527322  0.629485  0.496122  0.612686  1.000000   \n",
       "daxi     -0.053925  0.503967  0.614316  0.486651  0.604176  0.876750   \n",
       "aord      0.168330  0.396166  0.325860  0.391910  0.298127  0.399828   \n",
       "hsi      -0.048244  0.198971 -0.006521  0.204243 -0.040197  0.207724   \n",
       "nikkei   -0.053575  0.256830  0.152702  0.217907  0.131019  0.342263   \n",
       "\n",
       "              daxi      aord       hsi    nikkei  \n",
       "spy      -0.053925  0.168330 -0.048244 -0.053575  \n",
       "spy_lag1  0.503967  0.396166  0.198971  0.256830  \n",
       "sp500     0.614316  0.325860 -0.006521  0.152702  \n",
       "nasdaq    0.486651  0.391910  0.204243  0.217907  \n",
       "dji       0.604176  0.298127 -0.040197  0.131019  \n",
       "cac40     0.876750  0.399828  0.207724  0.342263  \n",
       "daxi      1.000000  0.381301  0.191219  0.321694  \n",
       "aord      0.381301  1.000000  0.167111  0.194483  \n",
       "hsi       0.191219  0.167111  1.000000  0.270212  \n",
       "nikkei    0.321694  0.194483  0.270212  1.000000  "
      ]
     },
     "execution_count": 87,
     "metadata": {},
     "output_type": "execute_result"
    }
   ],
   "source": [
    "Train.iloc[:,:-1].corr()"
   ]
  },
  {
   "cell_type": "markdown",
   "metadata": {},
   "source": [
    "Now, we are going to predict daily change. "
   ]
  },
  {
   "cell_type": "code",
   "execution_count": 89,
   "metadata": {},
   "outputs": [
    {
     "name": "stderr",
     "output_type": "stream",
     "text": [
      "C:\\Users\\ramir\\Anaconda3\\lib\\site-packages\\ipykernel_launcher.py:1: SettingWithCopyWarning: \n",
      "A value is trying to be set on a copy of a slice from a DataFrame.\n",
      "Try using .loc[row_indexer,col_indexer] = value instead\n",
      "\n",
      "See the caveats in the documentation: http://pandas.pydata.org/pandas-docs/stable/indexing.html#indexing-view-versus-copy\n",
      "  \"\"\"Entry point for launching an IPython kernel.\n",
      "C:\\Users\\ramir\\Anaconda3\\lib\\site-packages\\ipykernel_launcher.py:2: SettingWithCopyWarning: \n",
      "A value is trying to be set on a copy of a slice from a DataFrame.\n",
      "Try using .loc[row_indexer,col_indexer] = value instead\n",
      "\n",
      "See the caveats in the documentation: http://pandas.pydata.org/pandas-docs/stable/indexing.html#indexing-view-versus-copy\n",
      "  \n"
     ]
    }
   ],
   "source": [
    "Train['PredictedY'] = lm.predict(Train)\n",
    "Test['PredictedY'] = lm.predict(Test)"
   ]
  },
  {
   "cell_type": "code",
   "execution_count": 90,
   "metadata": {},
   "outputs": [
    {
     "data": {
      "text/plain": [
       "<matplotlib.collections.PathCollection at 0x1bd965ff908>"
      ]
     },
     "execution_count": 90,
     "metadata": {},
     "output_type": "execute_result"
    },
    {
     "data": {
      "image/png": "[encoded data removed]",
      "text/plain": [
       "<Figure size 432x288 with 1 Axes>"
      ]
     },
     "metadata": {
      "needs_background": "light"
     },
     "output_type": "display_data"
    }
   ],
   "source": [
    "plt.scatter(Train['spy'], Train['PredictedY'])"
   ]
  },
  {
   "cell_type": "markdown",
   "metadata": {},
   "source": [
    "We can see that it has a positive correlation."
   ]
  },
  {
   "cell_type": "code",
   "execution_count": 91,
   "metadata": {},
   "outputs": [],
   "source": [
    "def adjustedMetric(data, model, model_k, yname):\n",
    "    data['yhat'] = model.predict(data)\n",
    "    SST = ((data[yname] - data[yname].mean())**2).sum()\n",
    "    SSR = ((data['yhat'] - data[yname].mean())**2).sum()\n",
    "    SSE = ((data[yname] - data['yhat'])**2).sum()\n",
    "    r2 = SSR/SST\n",
    "    adjustR2 = 1 - (1-r2)*(data.shape[0] - 1)/(data.shape[0] -model_k -1)\n",
    "    RMSE = (SSE/(data.shape[0] -model_k -1))**0.5\n",
    "    return adjustR2, RMSE"
   ]
  },
  {
   "cell_type": "code",
   "execution_count": 92,
   "metadata": {},
   "outputs": [],
   "source": [
    "def assessTable(test, train, model, model_k, yname):\n",
    "    r2test, RMSEtest = adjustedMetric(test, model, model_k, yname)\n",
    "    r2train, RMSEtrain = adjustedMetric(train, model, model_k, yname)\n",
    "    assessment = pd.DataFrame(index=['R2', 'RMSE'], columns=['Train', 'Test'])\n",
    "    assessment['Train'] = [r2train, RMSEtrain]\n",
    "    assessment['Test'] = [r2test, RMSEtest]\n",
    "    return assessment"
   ]
  },
  {
   "cell_type": "code",
   "execution_count": 93,
   "metadata": {},
   "outputs": [
    {
     "name": "stderr",
     "output_type": "stream",
     "text": [
      "C:\\Users\\ramir\\Anaconda3\\lib\\site-packages\\ipykernel_launcher.py:2: SettingWithCopyWarning: \n",
      "A value is trying to be set on a copy of a slice from a DataFrame.\n",
      "Try using .loc[row_indexer,col_indexer] = value instead\n",
      "\n",
      "See the caveats in the documentation: http://pandas.pydata.org/pandas-docs/stable/indexing.html#indexing-view-versus-copy\n",
      "  \n"
     ]
    },
    {
     "data": {
      "text/html": [
       "<div>\n",
       "<style scoped>\n",
       "    .dataframe tbody tr th:only-of-type {\n",
       "        vertical-align: middle;\n",
       "    }\n",
       "\n",
       "    .dataframe tbody tr th {\n",
       "        vertical-align: top;\n",
       "    }\n",
       "\n",
       "    .dataframe thead th {\n",
       "        text-align: right;\n",
       "    }\n",
       "</style>\n",
       "<table border=\"1\" class=\"dataframe\">\n",
       "  <thead>\n",
       "    <tr style=\"text-align: right;\">\n",
       "      <th></th>\n",
       "      <th>Train</th>\n",
       "      <th>Test</th>\n",
       "    </tr>\n",
       "  </thead>\n",
       "  <tbody>\n",
       "    <tr>\n",
       "      <th>R2</th>\n",
       "      <td>0.070936</td>\n",
       "      <td>0.088440</td>\n",
       "    </tr>\n",
       "    <tr>\n",
       "      <th>RMSE</th>\n",
       "      <td>1.501861</td>\n",
       "      <td>2.633898</td>\n",
       "    </tr>\n",
       "  </tbody>\n",
       "</table>\n",
       "</div>"
      ],
      "text/plain": [
       "         Train      Test\n",
       "R2    0.070936  0.088440\n",
       "RMSE  1.501861  2.633898"
      ]
     },
     "execution_count": 93,
     "metadata": {},
     "output_type": "execute_result"
    }
   ],
   "source": [
    "assessTable(Test, Train, lm, 9, 'spy')"
   ]
  },
  {
   "cell_type": "markdown",
   "metadata": {},
   "source": [
    "RMSE differ dramaticaly, we can say that there is overfitting."
   ]
  },
  {
   "cell_type": "code",
   "execution_count": 98,
   "metadata": {},
   "outputs": [
    {
     "name": "stderr",
     "output_type": "stream",
     "text": [
      "C:\\Users\\ramir\\Anaconda3\\lib\\site-packages\\ipykernel_launcher.py:1: SettingWithCopyWarning: \n",
      "A value is trying to be set on a copy of a slice from a DataFrame.\n",
      "Try using .loc[row_indexer,col_indexer] = value instead\n",
      "\n",
      "See the caveats in the documentation: http://pandas.pydata.org/pandas-docs/stable/indexing.html#indexing-view-versus-copy\n",
      "  \"\"\"Entry point for launching an IPython kernel.\n",
      "C:\\Users\\ramir\\Anaconda3\\lib\\site-packages\\ipykernel_launcher.py:2: SettingWithCopyWarning: \n",
      "A value is trying to be set on a copy of a slice from a DataFrame.\n",
      "Try using .loc[row_indexer,col_indexer] = value instead\n",
      "\n",
      "See the caveats in the documentation: http://pandas.pydata.org/pandas-docs/stable/indexing.html#indexing-view-versus-copy\n",
      "  \n"
     ]
    },
    {
     "name": "stdout",
     "output_type": "stream",
     "text": [
      "Total profit made in Train:  321.8100280761719\n"
     ]
    },
    {
     "name": "stderr",
     "output_type": "stream",
     "text": [
      "C:\\Users\\ramir\\Anaconda3\\lib\\site-packages\\ipykernel_launcher.py:4: SettingWithCopyWarning: \n",
      "A value is trying to be set on a copy of a slice from a DataFrame.\n",
      "Try using .loc[row_indexer,col_indexer] = value instead\n",
      "\n",
      "See the caveats in the documentation: http://pandas.pydata.org/pandas-docs/stable/indexing.html#indexing-view-versus-copy\n",
      "  after removing the cwd from sys.path.\n",
      "C:\\Users\\ramir\\Anaconda3\\lib\\site-packages\\ipykernel_launcher.py:5: SettingWithCopyWarning: \n",
      "A value is trying to be set on a copy of a slice from a DataFrame.\n",
      "Try using .loc[row_indexer,col_indexer] = value instead\n",
      "\n",
      "See the caveats in the documentation: http://pandas.pydata.org/pandas-docs/stable/indexing.html#indexing-view-versus-copy\n",
      "  \"\"\"\n",
      "C:\\Users\\ramir\\Anaconda3\\lib\\site-packages\\ipykernel_launcher.py:7: SettingWithCopyWarning: \n",
      "A value is trying to be set on a copy of a slice from a DataFrame.\n",
      "Try using .loc[row_indexer,col_indexer] = value instead\n",
      "\n",
      "See the caveats in the documentation: http://pandas.pydata.org/pandas-docs/stable/indexing.html#indexing-view-versus-copy\n",
      "  import sys\n"
     ]
    }
   ],
   "source": [
    "Train['PredictedY'] = lm.predict(Train)\n",
    "Test['PredictedY'] = lm.predict(Test)\n",
    "\n",
    "Train['Order'] = [1 if sig>0 else -1 for sig in Train['PredictedY']]\n",
    "Train['Profit'] = Train['spy'] * Train['Order']\n",
    "\n",
    "Train['Wealth'] = Train['Profit'].cumsum()\n",
    "print('Total profit made in Train: ', Train['Profit'].sum())"
   ]
  },
  {
   "cell_type": "code",
   "execution_count": 99,
   "metadata": {},
   "outputs": [
    {
     "data": {
      "image/png": "[encoded data removed]",
      "text/plain": [
       "<Figure size 720x720 with 1 Axes>"
      ]
     },
     "metadata": {
      "needs_background": "light"
     },
     "output_type": "display_data"
    }
   ],
   "source": [
    "plt.figure(figsize=(10, 10))\n",
    "plt.title('Performance of Strategy in Train')\n",
    "plt.plot(Train['Wealth'].values, color='green', label='Signal based strategy')\n",
    "plt.plot(Train['spy'].cumsum().values, color='red', label='Buy and Hold strategy')\n",
    "plt.legend()\n",
    "plt.show()"
   ]
  },
  {
   "cell_type": "code",
   "execution_count": 100,
   "metadata": {},
   "outputs": [
    {
     "name": "stderr",
     "output_type": "stream",
     "text": [
      "C:\\Users\\ramir\\Anaconda3\\lib\\site-packages\\ipykernel_launcher.py:2: SettingWithCopyWarning: \n",
      "A value is trying to be set on a copy of a slice from a DataFrame.\n",
      "Try using .loc[row_indexer,col_indexer] = value instead\n",
      "\n",
      "See the caveats in the documentation: http://pandas.pydata.org/pandas-docs/stable/indexing.html#indexing-view-versus-copy\n",
      "  \n",
      "C:\\Users\\ramir\\Anaconda3\\lib\\site-packages\\ipykernel_launcher.py:3: SettingWithCopyWarning: \n",
      "A value is trying to be set on a copy of a slice from a DataFrame.\n",
      "Try using .loc[row_indexer,col_indexer] = value instead\n",
      "\n",
      "See the caveats in the documentation: http://pandas.pydata.org/pandas-docs/stable/indexing.html#indexing-view-versus-copy\n",
      "  This is separate from the ipykernel package so we can avoid doing imports until\n"
     ]
    },
    {
     "name": "stdout",
     "output_type": "stream",
     "text": [
      "Total profit made in Test:  219.3296356201172\n"
     ]
    },
    {
     "name": "stderr",
     "output_type": "stream",
     "text": [
      "C:\\Users\\ramir\\Anaconda3\\lib\\site-packages\\ipykernel_launcher.py:5: SettingWithCopyWarning: \n",
      "A value is trying to be set on a copy of a slice from a DataFrame.\n",
      "Try using .loc[row_indexer,col_indexer] = value instead\n",
      "\n",
      "See the caveats in the documentation: http://pandas.pydata.org/pandas-docs/stable/indexing.html#indexing-view-versus-copy\n",
      "  \"\"\"\n"
     ]
    }
   ],
   "source": [
    "# Test\n",
    "Test['Order'] = [1 if sig>0 else -1 for sig in Test['PredictedY']]\n",
    "Test['Profit'] = Test['spy'] * Test['Order']\n",
    "\n",
    "Test['Wealth'] = Test['Profit'].cumsum()\n",
    "print('Total profit made in Test: ', Test['Profit'].sum())"
   ]
  },
  {
   "cell_type": "markdown",
   "metadata": {},
   "source": [
    "#### Sharpe ratio"
   ]
  },
  {
   "cell_type": "markdown",
   "metadata": {},
   "source": [
    "Sharpe ratio meassures exess return per unit of deviation in an investment asset or trading strategy. "
   ]
  },
  {
   "cell_type": "code",
   "execution_count": 101,
   "metadata": {},
   "outputs": [
    {
     "name": "stderr",
     "output_type": "stream",
     "text": [
      "C:\\Users\\ramir\\Anaconda3\\lib\\site-packages\\ipykernel_launcher.py:1: SettingWithCopyWarning: \n",
      "A value is trying to be set on a copy of a slice from a DataFrame.\n",
      "Try using .loc[row_indexer,col_indexer] = value instead\n",
      "\n",
      "See the caveats in the documentation: http://pandas.pydata.org/pandas-docs/stable/indexing.html#indexing-view-versus-copy\n",
      "  \"\"\"Entry point for launching an IPython kernel.\n",
      "C:\\Users\\ramir\\Anaconda3\\lib\\site-packages\\ipykernel_launcher.py:2: SettingWithCopyWarning: \n",
      "A value is trying to be set on a copy of a slice from a DataFrame.\n",
      "Try using .loc[row_indexer,col_indexer] = value instead\n",
      "\n",
      "See the caveats in the documentation: http://pandas.pydata.org/pandas-docs/stable/indexing.html#indexing-view-versus-copy\n",
      "  \n"
     ]
    }
   ],
   "source": [
    "Train['Wealth'] = Train['Wealth'] + Train.loc[Train.index[0], 'Price']\n",
    "Test['Wealth'] = Test['Wealth'] + Test.loc[Test.index[0], 'Price']"
   ]
  },
  {
   "cell_type": "code",
   "execution_count": 102,
   "metadata": {},
   "outputs": [
    {
     "name": "stdout",
     "output_type": "stream",
     "text": [
      "Daily Sharpe Ratio is  0.2062867435247494\n",
      "Yearly Sharpe Ratio is  3.2747005328151046\n"
     ]
    },
    {
     "name": "stderr",
     "output_type": "stream",
     "text": [
      "C:\\Users\\ramir\\Anaconda3\\lib\\site-packages\\ipykernel_launcher.py:2: SettingWithCopyWarning: \n",
      "A value is trying to be set on a copy of a slice from a DataFrame.\n",
      "Try using .loc[row_indexer,col_indexer] = value instead\n",
      "\n",
      "See the caveats in the documentation: http://pandas.pydata.org/pandas-docs/stable/indexing.html#indexing-view-versus-copy\n",
      "  \n"
     ]
    }
   ],
   "source": [
    "# Sharpe Ratio on Train data\n",
    "Train['Return'] = np.log(Train['Wealth']) - np.log(Train['Wealth'].shift(1))\n",
    "dailyr = Train['Return'].dropna()\n",
    "\n",
    "print('Daily Sharpe Ratio is ', dailyr.mean()/dailyr.std(ddof=1))\n",
    "print('Yearly Sharpe Ratio is ', (252**0.5)*dailyr.mean()/dailyr.std(ddof=1))"
   ]
  },
  {
   "cell_type": "code",
   "execution_count": 103,
   "metadata": {},
   "outputs": [
    {
     "name": "stdout",
     "output_type": "stream",
     "text": [
      "Daily Sharpe Ratio is  0.08690086319951659\n",
      "Yearly Sharpe Ratio is  1.3795084364565942\n"
     ]
    },
    {
     "name": "stderr",
     "output_type": "stream",
     "text": [
      "C:\\Users\\ramir\\Anaconda3\\lib\\site-packages\\ipykernel_launcher.py:2: SettingWithCopyWarning: \n",
      "A value is trying to be set on a copy of a slice from a DataFrame.\n",
      "Try using .loc[row_indexer,col_indexer] = value instead\n",
      "\n",
      "See the caveats in the documentation: http://pandas.pydata.org/pandas-docs/stable/indexing.html#indexing-view-versus-copy\n",
      "  \n"
     ]
    }
   ],
   "source": [
    "# Sharpe Ratio in Test data\n",
    "Test['Return'] = np.log(Test['Wealth']) - np.log(Test['Wealth'].shift(1))\n",
    "dailyr = Test['Return'].dropna()\n",
    "\n",
    "print('Daily Sharpe Ratio is ', dailyr.mean()/dailyr.std(ddof=1))\n",
    "print('Yearly Sharpe Ratio is ', (252**0.5)*dailyr.mean()/dailyr.std(ddof=1))"
   ]
  },
  {
   "cell_type": "markdown",
   "metadata": {},
   "source": [
    "The return per unit risk is not very consistent."
   ]
  },
  {
   "cell_type": "markdown",
   "metadata": {},
   "source": [
    "#### Maximun drawdown"
   ]
  },
  {
   "cell_type": "markdown",
   "metadata": {},
   "source": [
    "It is a maximun percentage decline in the strategy from the historical peak profit at each point in time. Maximun drawdown is that risk of mirror for extreme loss of a strategy. To calculate it we use the cummax method. "
   ]
  },
  {
   "cell_type": "code",
   "execution_count": 104,
   "metadata": {},
   "outputs": [
    {
     "name": "stdout",
     "output_type": "stream",
     "text": [
      "Maximum Drawdown in Train is  0.06974474371234712\n"
     ]
    },
    {
     "name": "stderr",
     "output_type": "stream",
     "text": [
      "C:\\Users\\ramir\\Anaconda3\\lib\\site-packages\\ipykernel_launcher.py:1: SettingWithCopyWarning: \n",
      "A value is trying to be set on a copy of a slice from a DataFrame.\n",
      "Try using .loc[row_indexer,col_indexer] = value instead\n",
      "\n",
      "See the caveats in the documentation: http://pandas.pydata.org/pandas-docs/stable/indexing.html#indexing-view-versus-copy\n",
      "  \"\"\"Entry point for launching an IPython kernel.\n",
      "C:\\Users\\ramir\\Anaconda3\\lib\\site-packages\\ipykernel_launcher.py:2: SettingWithCopyWarning: \n",
      "A value is trying to be set on a copy of a slice from a DataFrame.\n",
      "Try using .loc[row_indexer,col_indexer] = value instead\n",
      "\n",
      "See the caveats in the documentation: http://pandas.pydata.org/pandas-docs/stable/indexing.html#indexing-view-versus-copy\n",
      "  \n"
     ]
    }
   ],
   "source": [
    "Train['Peak'] = Train['Wealth'].cummax()\n",
    "Train['Drawdown'] = (Train['Peak'] - Train['Wealth'])/Train['Peak']\n",
    "print('Maximum Drawdown in Train is ', Train['Drawdown'].max())"
   ]
  },
  {
   "cell_type": "code",
   "execution_count": 105,
   "metadata": {},
   "outputs": [
    {
     "name": "stdout",
     "output_type": "stream",
     "text": [
      "Maximum Drawdown in Test is  0.1896441274070032\n"
     ]
    },
    {
     "name": "stderr",
     "output_type": "stream",
     "text": [
      "C:\\Users\\ramir\\Anaconda3\\lib\\site-packages\\ipykernel_launcher.py:2: SettingWithCopyWarning: \n",
      "A value is trying to be set on a copy of a slice from a DataFrame.\n",
      "Try using .loc[row_indexer,col_indexer] = value instead\n",
      "\n",
      "See the caveats in the documentation: http://pandas.pydata.org/pandas-docs/stable/indexing.html#indexing-view-versus-copy\n",
      "  \n",
      "C:\\Users\\ramir\\Anaconda3\\lib\\site-packages\\ipykernel_launcher.py:3: SettingWithCopyWarning: \n",
      "A value is trying to be set on a copy of a slice from a DataFrame.\n",
      "Try using .loc[row_indexer,col_indexer] = value instead\n",
      "\n",
      "See the caveats in the documentation: http://pandas.pydata.org/pandas-docs/stable/indexing.html#indexing-view-versus-copy\n",
      "  This is separate from the ipykernel package so we can avoid doing imports until\n"
     ]
    }
   ],
   "source": [
    "# Maximum Drawdown in Test data\n",
    "Test['Peak'] = Test['Wealth'].cummax()\n",
    "Test['Drawdown'] = (Test['Peak'] - Test['Wealth'])/Test['Peak']\n",
    "print('Maximum Drawdown in Test is ', Test['Drawdown'].max())"
   ]
  },
  {
   "cell_type": "markdown",
   "metadata": {},
   "source": [
    "The maximun drawdown of the train deffers from the test. That means that if we apply the strategy of train in test, the maximum we can loss is 19%. "
   ]
  }
 ],
 "metadata": {
  "kernelspec": {
   "display_name": "Python 3",
   "language": "python",
   "name": "python3"
  },
  "language_info": {
   "codemirror_mode": {
    "name": "ipython",
    "version": 3
   },
   "file_extension": ".py",
   "mimetype": "text/x-python",
   "name": "python",
   "nbconvert_exporter": "python",
   "pygments_lexer": "ipython3",
   "version": "3.7.2"
  }
 },
 "nbformat": 4,
 "nbformat_minor": 2
}
